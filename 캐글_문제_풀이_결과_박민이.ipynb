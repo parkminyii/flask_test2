{
  "cells": [
    {
      "cell_type": "markdown",
      "metadata": {
        "id": "view-in-github",
        "colab_type": "text"
      },
      "source": [
        "<a href=\"https://colab.research.google.com/github/parkminyii/flask_test2/blob/main/%EC%BA%90%EA%B8%80_%EB%AC%B8%EC%A0%9C_%ED%92%80%EC%9D%B4_%EA%B2%B0%EA%B3%BC_%EB%B0%95%EB%AF%BC%EC%9D%B4.ipynb\" target=\"_parent\"><img src=\"https://colab.research.google.com/assets/colab-badge.svg\" alt=\"Open In Colab\"/></a>"
      ]
    },
    {
      "cell_type": "code",
      "execution_count": null,
      "id": "99e9c12a",
      "metadata": {
        "_cell_guid": "b1076dfc-b9ad-4769-8c92-a6c4dae69d19",
        "_uuid": "8f2839f25d086af736a60e9eeb907d3b93b6e0e5",
        "execution": {
          "iopub.execute_input": "2023-08-31T04:26:29.006731Z",
          "iopub.status.busy": "2023-08-31T04:26:29.006067Z",
          "iopub.status.idle": "2023-08-31T04:26:29.026729Z",
          "shell.execute_reply": "2023-08-31T04:26:29.025807Z"
        },
        "papermill": {
          "duration": 0.044703,
          "end_time": "2023-08-31T04:26:29.029308",
          "exception": false,
          "start_time": "2023-08-31T04:26:28.984605",
          "status": "completed"
        },
        "tags": [],
        "id": "99e9c12a",
        "outputId": "d8918638-b02d-4cb8-db8f-5f3e0f1464f4"
      },
      "outputs": [
        {
          "name": "stdout",
          "output_type": "stream",
          "text": [
            "/kaggle/input/multistage-continuousflow-manufacturing-process/continuous_factory_process.csv\n",
            "/kaggle/input/multistage-continuousflow-manufacturing-process/notes_on_dataset.txt\n"
          ]
        }
      ],
      "source": [
        "# This Python 3 environment comes with many helpful analytics libraries installed\n",
        "# It is defined by the kaggle/python Docker image: https://github.com/kaggle/docker-python\n",
        "# For example, here's several helpful packages to load\n",
        "\n",
        "import numpy as np # linear algebra\n",
        "import pandas as pd # data processing, CSV file I/O (e.g. pd.read_csv)\n",
        "\n",
        "# Input data files are available in the read-only \"../input/\" directory\n",
        "# For example, running this (by clicking run or pressing Shift+Enter) will list all files under the input directory\n",
        "\n",
        "import os\n",
        "for dirname, _, filenames in os.walk('/kaggle/input'):\n",
        "    for filename in filenames:\n",
        "        print(os.path.join(dirname, filename))\n",
        "\n",
        "# You can write up to 20GB to the current directory (/kaggle/working/) that gets preserved as output when you create a version using \"Save & Run All\"\n",
        "# You can also write temporary files to /kaggle/temp/, but they won't be saved outside of the current session"
      ]
    },
    {
      "cell_type": "code",
      "execution_count": null,
      "id": "74fc5d27",
      "metadata": {
        "execution": {
          "iopub.execute_input": "2023-08-31T04:26:29.066316Z",
          "iopub.status.busy": "2023-08-31T04:26:29.065366Z",
          "iopub.status.idle": "2023-08-31T04:26:31.642692Z",
          "shell.execute_reply": "2023-08-31T04:26:31.641933Z"
        },
        "papermill": {
          "duration": 2.597745,
          "end_time": "2023-08-31T04:26:31.644941",
          "exception": false,
          "start_time": "2023-08-31T04:26:29.047196",
          "status": "completed"
        },
        "tags": [],
        "id": "74fc5d27",
        "outputId": "5f2f3cd7-f346-4e9f-c1f7-6858484a0c5f"
      },
      "outputs": [
        {
          "name": "stderr",
          "output_type": "stream",
          "text": [
            "/opt/conda/lib/python3.10/site-packages/scipy/__init__.py:146: UserWarning: A NumPy version >=1.16.5 and <1.23.0 is required for this version of SciPy (detected version 1.23.5\n",
            "  warnings.warn(f\"A NumPy version >={np_minversion} and <{np_maxversion}\"\n"
          ]
        }
      ],
      "source": [
        "# 필요 모듈 불러오기\n",
        "import pandas as pd\n",
        "import statsmodels.api as sm\n",
        "import numpy as np\n",
        "from sklearn.model_selection import train_test_split\n",
        "from sklearn import tree\n",
        "from sklearn.preprocessing import StandardScaler, MinMaxScaler\n",
        "from sklearn.svm import SVR\n",
        "from sklearn.neighbors import KNeighborsRegressor\n",
        "from sklearn.pipeline import make_pipeline\n",
        "import time\n",
        "import warnings\n",
        "warnings.filterwarnings('ignore')"
      ]
    },
    {
      "cell_type": "markdown",
      "id": "34534393",
      "metadata": {
        "papermill": {
          "duration": 0.017176,
          "end_time": "2023-08-31T04:26:31.680028",
          "exception": false,
          "start_time": "2023-08-31T04:26:31.662852",
          "status": "completed"
        },
        "tags": [],
        "id": "34534393"
      },
      "source": [
        "# 원본 파일"
      ]
    },
    {
      "cell_type": "code",
      "execution_count": null,
      "id": "dc41c7f5",
      "metadata": {
        "execution": {
          "iopub.execute_input": "2023-08-31T04:26:31.716926Z",
          "iopub.status.busy": "2023-08-31T04:26:31.716510Z",
          "iopub.status.idle": "2023-08-31T04:26:32.142828Z",
          "shell.execute_reply": "2023-08-31T04:26:32.141704Z"
        },
        "papermill": {
          "duration": 0.447227,
          "end_time": "2023-08-31T04:26:32.145329",
          "exception": false,
          "start_time": "2023-08-31T04:26:31.698102",
          "status": "completed"
        },
        "tags": [],
        "id": "dc41c7f5",
        "outputId": "bf1d411a-16ca-4614-bd34-5999b419284a"
      },
      "outputs": [
        {
          "data": {
            "text/html": [
              "<div>\n",
              "<style scoped>\n",
              "    .dataframe tbody tr th:only-of-type {\n",
              "        vertical-align: middle;\n",
              "    }\n",
              "\n",
              "    .dataframe tbody tr th {\n",
              "        vertical-align: top;\n",
              "    }\n",
              "\n",
              "    .dataframe thead th {\n",
              "        text-align: right;\n",
              "    }\n",
              "</style>\n",
              "<table border=\"1\" class=\"dataframe\">\n",
              "  <thead>\n",
              "    <tr style=\"text-align: right;\">\n",
              "      <th></th>\n",
              "      <th>AmbientConditions.AmbientHumidity.U.Actual</th>\n",
              "      <th>AmbientConditions.AmbientTemperature.U.Actual</th>\n",
              "      <th>Machine1.RawMaterial.Property1</th>\n",
              "      <th>Machine1.RawMaterial.Property2</th>\n",
              "      <th>Machine1.RawMaterial.Property3</th>\n",
              "      <th>Machine1.RawMaterial.Property4</th>\n",
              "      <th>Machine1.RawMaterialFeederParameter.U.Actual</th>\n",
              "      <th>Machine1.Zone1Temperature.C.Actual</th>\n",
              "      <th>Machine1.Zone2Temperature.C.Actual</th>\n",
              "      <th>Machine1.MotorAmperage.U.Actual</th>\n",
              "      <th>...</th>\n",
              "      <th>Stage2.Output.Measurement10.U.Actual</th>\n",
              "      <th>Stage2.Output.Measurement10.U.Setpoint</th>\n",
              "      <th>Stage2.Output.Measurement11.U.Actual</th>\n",
              "      <th>Stage2.Output.Measurement11.U.Setpoint</th>\n",
              "      <th>Stage2.Output.Measurement12.U.Actual</th>\n",
              "      <th>Stage2.Output.Measurement12.U.Setpoint</th>\n",
              "      <th>Stage2.Output.Measurement13.U.Actual</th>\n",
              "      <th>Stage2.Output.Measurement13.U.Setpoint</th>\n",
              "      <th>Stage2.Output.Measurement14.U.Actual</th>\n",
              "      <th>Stage2.Output.Measurement14.U.Setpoint</th>\n",
              "    </tr>\n",
              "    <tr>\n",
              "      <th>time_stamp</th>\n",
              "      <th></th>\n",
              "      <th></th>\n",
              "      <th></th>\n",
              "      <th></th>\n",
              "      <th></th>\n",
              "      <th></th>\n",
              "      <th></th>\n",
              "      <th></th>\n",
              "      <th></th>\n",
              "      <th></th>\n",
              "      <th></th>\n",
              "      <th></th>\n",
              "      <th></th>\n",
              "      <th></th>\n",
              "      <th></th>\n",
              "      <th></th>\n",
              "      <th></th>\n",
              "      <th></th>\n",
              "      <th></th>\n",
              "      <th></th>\n",
              "      <th></th>\n",
              "    </tr>\n",
              "  </thead>\n",
              "  <tbody>\n",
              "    <tr>\n",
              "      <th>2019-03-06 10:52:33</th>\n",
              "      <td>17.24</td>\n",
              "      <td>23.53</td>\n",
              "      <td>11.54</td>\n",
              "      <td>200</td>\n",
              "      <td>963.0</td>\n",
              "      <td>247</td>\n",
              "      <td>1241.26</td>\n",
              "      <td>72.0</td>\n",
              "      <td>72.3</td>\n",
              "      <td>48.03</td>\n",
              "      <td>...</td>\n",
              "      <td>0.0</td>\n",
              "      <td>7.93</td>\n",
              "      <td>0.0</td>\n",
              "      <td>5.65</td>\n",
              "      <td>0.0</td>\n",
              "      <td>1.85</td>\n",
              "      <td>0.0</td>\n",
              "      <td>2.89</td>\n",
              "      <td>0.0</td>\n",
              "      <td>11.71</td>\n",
              "    </tr>\n",
              "    <tr>\n",
              "      <th>2019-03-06 10:52:34</th>\n",
              "      <td>17.24</td>\n",
              "      <td>23.53</td>\n",
              "      <td>11.54</td>\n",
              "      <td>200</td>\n",
              "      <td>963.0</td>\n",
              "      <td>247</td>\n",
              "      <td>1246.09</td>\n",
              "      <td>72.0</td>\n",
              "      <td>72.3</td>\n",
              "      <td>48.03</td>\n",
              "      <td>...</td>\n",
              "      <td>0.0</td>\n",
              "      <td>7.93</td>\n",
              "      <td>0.0</td>\n",
              "      <td>5.65</td>\n",
              "      <td>0.0</td>\n",
              "      <td>1.85</td>\n",
              "      <td>0.0</td>\n",
              "      <td>2.89</td>\n",
              "      <td>0.0</td>\n",
              "      <td>11.71</td>\n",
              "    </tr>\n",
              "    <tr>\n",
              "      <th>2019-03-06 10:52:35</th>\n",
              "      <td>17.24</td>\n",
              "      <td>23.53</td>\n",
              "      <td>11.54</td>\n",
              "      <td>200</td>\n",
              "      <td>963.0</td>\n",
              "      <td>247</td>\n",
              "      <td>1246.29</td>\n",
              "      <td>72.0</td>\n",
              "      <td>72.3</td>\n",
              "      <td>48.16</td>\n",
              "      <td>...</td>\n",
              "      <td>0.0</td>\n",
              "      <td>7.93</td>\n",
              "      <td>0.0</td>\n",
              "      <td>5.65</td>\n",
              "      <td>0.0</td>\n",
              "      <td>1.85</td>\n",
              "      <td>0.0</td>\n",
              "      <td>2.89</td>\n",
              "      <td>0.0</td>\n",
              "      <td>11.71</td>\n",
              "    </tr>\n",
              "    <tr>\n",
              "      <th>2019-03-06 10:52:36</th>\n",
              "      <td>17.24</td>\n",
              "      <td>23.53</td>\n",
              "      <td>11.54</td>\n",
              "      <td>200</td>\n",
              "      <td>963.0</td>\n",
              "      <td>247</td>\n",
              "      <td>1247.59</td>\n",
              "      <td>72.0</td>\n",
              "      <td>72.3</td>\n",
              "      <td>48.57</td>\n",
              "      <td>...</td>\n",
              "      <td>0.0</td>\n",
              "      <td>7.93</td>\n",
              "      <td>0.0</td>\n",
              "      <td>5.65</td>\n",
              "      <td>0.0</td>\n",
              "      <td>1.85</td>\n",
              "      <td>0.0</td>\n",
              "      <td>2.89</td>\n",
              "      <td>0.0</td>\n",
              "      <td>11.71</td>\n",
              "    </tr>\n",
              "    <tr>\n",
              "      <th>2019-03-06 10:52:37</th>\n",
              "      <td>17.24</td>\n",
              "      <td>23.53</td>\n",
              "      <td>11.54</td>\n",
              "      <td>200</td>\n",
              "      <td>963.0</td>\n",
              "      <td>247</td>\n",
              "      <td>1252.83</td>\n",
              "      <td>72.1</td>\n",
              "      <td>72.4</td>\n",
              "      <td>48.57</td>\n",
              "      <td>...</td>\n",
              "      <td>0.0</td>\n",
              "      <td>7.93</td>\n",
              "      <td>0.0</td>\n",
              "      <td>5.65</td>\n",
              "      <td>0.0</td>\n",
              "      <td>1.85</td>\n",
              "      <td>0.0</td>\n",
              "      <td>2.89</td>\n",
              "      <td>0.0</td>\n",
              "      <td>11.71</td>\n",
              "    </tr>\n",
              "  </tbody>\n",
              "</table>\n",
              "<p>5 rows × 115 columns</p>\n",
              "</div>"
            ],
            "text/plain": [
              "                     AmbientConditions.AmbientHumidity.U.Actual  \\\n",
              "time_stamp                                                        \n",
              "2019-03-06 10:52:33                                       17.24   \n",
              "2019-03-06 10:52:34                                       17.24   \n",
              "2019-03-06 10:52:35                                       17.24   \n",
              "2019-03-06 10:52:36                                       17.24   \n",
              "2019-03-06 10:52:37                                       17.24   \n",
              "\n",
              "                     AmbientConditions.AmbientTemperature.U.Actual  \\\n",
              "time_stamp                                                           \n",
              "2019-03-06 10:52:33                                          23.53   \n",
              "2019-03-06 10:52:34                                          23.53   \n",
              "2019-03-06 10:52:35                                          23.53   \n",
              "2019-03-06 10:52:36                                          23.53   \n",
              "2019-03-06 10:52:37                                          23.53   \n",
              "\n",
              "                     Machine1.RawMaterial.Property1  \\\n",
              "time_stamp                                            \n",
              "2019-03-06 10:52:33                           11.54   \n",
              "2019-03-06 10:52:34                           11.54   \n",
              "2019-03-06 10:52:35                           11.54   \n",
              "2019-03-06 10:52:36                           11.54   \n",
              "2019-03-06 10:52:37                           11.54   \n",
              "\n",
              "                     Machine1.RawMaterial.Property2  \\\n",
              "time_stamp                                            \n",
              "2019-03-06 10:52:33                             200   \n",
              "2019-03-06 10:52:34                             200   \n",
              "2019-03-06 10:52:35                             200   \n",
              "2019-03-06 10:52:36                             200   \n",
              "2019-03-06 10:52:37                             200   \n",
              "\n",
              "                     Machine1.RawMaterial.Property3  \\\n",
              "time_stamp                                            \n",
              "2019-03-06 10:52:33                           963.0   \n",
              "2019-03-06 10:52:34                           963.0   \n",
              "2019-03-06 10:52:35                           963.0   \n",
              "2019-03-06 10:52:36                           963.0   \n",
              "2019-03-06 10:52:37                           963.0   \n",
              "\n",
              "                     Machine1.RawMaterial.Property4  \\\n",
              "time_stamp                                            \n",
              "2019-03-06 10:52:33                             247   \n",
              "2019-03-06 10:52:34                             247   \n",
              "2019-03-06 10:52:35                             247   \n",
              "2019-03-06 10:52:36                             247   \n",
              "2019-03-06 10:52:37                             247   \n",
              "\n",
              "                     Machine1.RawMaterialFeederParameter.U.Actual  \\\n",
              "time_stamp                                                          \n",
              "2019-03-06 10:52:33                                       1241.26   \n",
              "2019-03-06 10:52:34                                       1246.09   \n",
              "2019-03-06 10:52:35                                       1246.29   \n",
              "2019-03-06 10:52:36                                       1247.59   \n",
              "2019-03-06 10:52:37                                       1252.83   \n",
              "\n",
              "                     Machine1.Zone1Temperature.C.Actual  \\\n",
              "time_stamp                                                \n",
              "2019-03-06 10:52:33                                72.0   \n",
              "2019-03-06 10:52:34                                72.0   \n",
              "2019-03-06 10:52:35                                72.0   \n",
              "2019-03-06 10:52:36                                72.0   \n",
              "2019-03-06 10:52:37                                72.1   \n",
              "\n",
              "                     Machine1.Zone2Temperature.C.Actual  \\\n",
              "time_stamp                                                \n",
              "2019-03-06 10:52:33                                72.3   \n",
              "2019-03-06 10:52:34                                72.3   \n",
              "2019-03-06 10:52:35                                72.3   \n",
              "2019-03-06 10:52:36                                72.3   \n",
              "2019-03-06 10:52:37                                72.4   \n",
              "\n",
              "                     Machine1.MotorAmperage.U.Actual  ...  \\\n",
              "time_stamp                                            ...   \n",
              "2019-03-06 10:52:33                            48.03  ...   \n",
              "2019-03-06 10:52:34                            48.03  ...   \n",
              "2019-03-06 10:52:35                            48.16  ...   \n",
              "2019-03-06 10:52:36                            48.57  ...   \n",
              "2019-03-06 10:52:37                            48.57  ...   \n",
              "\n",
              "                     Stage2.Output.Measurement10.U.Actual  \\\n",
              "time_stamp                                                  \n",
              "2019-03-06 10:52:33                                   0.0   \n",
              "2019-03-06 10:52:34                                   0.0   \n",
              "2019-03-06 10:52:35                                   0.0   \n",
              "2019-03-06 10:52:36                                   0.0   \n",
              "2019-03-06 10:52:37                                   0.0   \n",
              "\n",
              "                     Stage2.Output.Measurement10.U.Setpoint  \\\n",
              "time_stamp                                                    \n",
              "2019-03-06 10:52:33                                    7.93   \n",
              "2019-03-06 10:52:34                                    7.93   \n",
              "2019-03-06 10:52:35                                    7.93   \n",
              "2019-03-06 10:52:36                                    7.93   \n",
              "2019-03-06 10:52:37                                    7.93   \n",
              "\n",
              "                     Stage2.Output.Measurement11.U.Actual  \\\n",
              "time_stamp                                                  \n",
              "2019-03-06 10:52:33                                   0.0   \n",
              "2019-03-06 10:52:34                                   0.0   \n",
              "2019-03-06 10:52:35                                   0.0   \n",
              "2019-03-06 10:52:36                                   0.0   \n",
              "2019-03-06 10:52:37                                   0.0   \n",
              "\n",
              "                     Stage2.Output.Measurement11.U.Setpoint  \\\n",
              "time_stamp                                                    \n",
              "2019-03-06 10:52:33                                    5.65   \n",
              "2019-03-06 10:52:34                                    5.65   \n",
              "2019-03-06 10:52:35                                    5.65   \n",
              "2019-03-06 10:52:36                                    5.65   \n",
              "2019-03-06 10:52:37                                    5.65   \n",
              "\n",
              "                     Stage2.Output.Measurement12.U.Actual  \\\n",
              "time_stamp                                                  \n",
              "2019-03-06 10:52:33                                   0.0   \n",
              "2019-03-06 10:52:34                                   0.0   \n",
              "2019-03-06 10:52:35                                   0.0   \n",
              "2019-03-06 10:52:36                                   0.0   \n",
              "2019-03-06 10:52:37                                   0.0   \n",
              "\n",
              "                     Stage2.Output.Measurement12.U.Setpoint  \\\n",
              "time_stamp                                                    \n",
              "2019-03-06 10:52:33                                    1.85   \n",
              "2019-03-06 10:52:34                                    1.85   \n",
              "2019-03-06 10:52:35                                    1.85   \n",
              "2019-03-06 10:52:36                                    1.85   \n",
              "2019-03-06 10:52:37                                    1.85   \n",
              "\n",
              "                     Stage2.Output.Measurement13.U.Actual  \\\n",
              "time_stamp                                                  \n",
              "2019-03-06 10:52:33                                   0.0   \n",
              "2019-03-06 10:52:34                                   0.0   \n",
              "2019-03-06 10:52:35                                   0.0   \n",
              "2019-03-06 10:52:36                                   0.0   \n",
              "2019-03-06 10:52:37                                   0.0   \n",
              "\n",
              "                     Stage2.Output.Measurement13.U.Setpoint  \\\n",
              "time_stamp                                                    \n",
              "2019-03-06 10:52:33                                    2.89   \n",
              "2019-03-06 10:52:34                                    2.89   \n",
              "2019-03-06 10:52:35                                    2.89   \n",
              "2019-03-06 10:52:36                                    2.89   \n",
              "2019-03-06 10:52:37                                    2.89   \n",
              "\n",
              "                     Stage2.Output.Measurement14.U.Actual  \\\n",
              "time_stamp                                                  \n",
              "2019-03-06 10:52:33                                   0.0   \n",
              "2019-03-06 10:52:34                                   0.0   \n",
              "2019-03-06 10:52:35                                   0.0   \n",
              "2019-03-06 10:52:36                                   0.0   \n",
              "2019-03-06 10:52:37                                   0.0   \n",
              "\n",
              "                     Stage2.Output.Measurement14.U.Setpoint  \n",
              "time_stamp                                                   \n",
              "2019-03-06 10:52:33                                   11.71  \n",
              "2019-03-06 10:52:34                                   11.71  \n",
              "2019-03-06 10:52:35                                   11.71  \n",
              "2019-03-06 10:52:36                                   11.71  \n",
              "2019-03-06 10:52:37                                   11.71  \n",
              "\n",
              "[5 rows x 115 columns]"
            ]
          },
          "execution_count": 3,
          "metadata": {},
          "output_type": "execute_result"
        }
      ],
      "source": [
        "# csv 파일\n",
        "df = pd.read_csv('/kaggle/input/multistage-continuousflow-manufacturing-process/continuous_factory_process.csv', index_col = 'time_stamp')\n",
        "df.head(5)"
      ]
    },
    {
      "cell_type": "code",
      "execution_count": null,
      "id": "4c469f46",
      "metadata": {
        "execution": {
          "iopub.execute_input": "2023-08-31T04:26:32.182955Z",
          "iopub.status.busy": "2023-08-31T04:26:32.182555Z",
          "iopub.status.idle": "2023-08-31T04:26:32.212488Z",
          "shell.execute_reply": "2023-08-31T04:26:32.211863Z"
        },
        "papermill": {
          "duration": 0.05116,
          "end_time": "2023-08-31T04:26:32.214590",
          "exception": false,
          "start_time": "2023-08-31T04:26:32.163430",
          "status": "completed"
        },
        "tags": [],
        "id": "4c469f46",
        "outputId": "68e4799d-b824-487c-9bff-8dd5f51e68bc"
      },
      "outputs": [
        {
          "name": "stdout",
          "output_type": "stream",
          "text": [
            "                     AmbientConditions.AmbientHumidity.U.Actual  \\\n",
            "time_stamp                                                        \n",
            "2019-03-06 10:52:33                                       17.24   \n",
            "2019-03-06 10:52:34                                       17.24   \n",
            "2019-03-06 10:52:35                                       17.24   \n",
            "2019-03-06 10:52:36                                       17.24   \n",
            "2019-03-06 10:52:37                                       17.24   \n",
            "...                                                         ...   \n",
            "2019-03-06 14:47:16                                       13.84   \n",
            "2019-03-06 14:47:17                                       13.84   \n",
            "2019-03-06 14:47:18                                       13.84   \n",
            "2019-03-06 14:47:19                                       13.84   \n",
            "2019-03-06 14:47:20                                       13.84   \n",
            "\n",
            "                     AmbientConditions.AmbientTemperature.U.Actual  \\\n",
            "time_stamp                                                           \n",
            "2019-03-06 10:52:33                                          23.53   \n",
            "2019-03-06 10:52:34                                          23.53   \n",
            "2019-03-06 10:52:35                                          23.53   \n",
            "2019-03-06 10:52:36                                          23.53   \n",
            "2019-03-06 10:52:37                                          23.53   \n",
            "...                                                            ...   \n",
            "2019-03-06 14:47:16                                          24.43   \n",
            "2019-03-06 14:47:17                                          24.43   \n",
            "2019-03-06 14:47:18                                          24.43   \n",
            "2019-03-06 14:47:19                                          24.43   \n",
            "2019-03-06 14:47:20                                          24.43   \n",
            "\n",
            "                     Machine1.RawMaterial.Property1  \\\n",
            "time_stamp                                            \n",
            "2019-03-06 10:52:33                           11.54   \n",
            "2019-03-06 10:52:34                           11.54   \n",
            "2019-03-06 10:52:35                           11.54   \n",
            "2019-03-06 10:52:36                           11.54   \n",
            "2019-03-06 10:52:37                           11.54   \n",
            "...                                             ...   \n",
            "2019-03-06 14:47:16                           12.22   \n",
            "2019-03-06 14:47:17                           12.22   \n",
            "2019-03-06 14:47:18                           12.22   \n",
            "2019-03-06 14:47:19                           12.22   \n",
            "2019-03-06 14:47:20                           12.22   \n",
            "\n",
            "                     Machine1.RawMaterial.Property2  \\\n",
            "time_stamp                                            \n",
            "2019-03-06 10:52:33                             200   \n",
            "2019-03-06 10:52:34                             200   \n",
            "2019-03-06 10:52:35                             200   \n",
            "2019-03-06 10:52:36                             200   \n",
            "2019-03-06 10:52:37                             200   \n",
            "...                                             ...   \n",
            "2019-03-06 14:47:16                             201   \n",
            "2019-03-06 14:47:17                             201   \n",
            "2019-03-06 14:47:18                             201   \n",
            "2019-03-06 14:47:19                             201   \n",
            "2019-03-06 14:47:20                             201   \n",
            "\n",
            "                     Machine1.RawMaterial.Property3  \\\n",
            "time_stamp                                            \n",
            "2019-03-06 10:52:33                          963.00   \n",
            "2019-03-06 10:52:34                          963.00   \n",
            "2019-03-06 10:52:35                          963.00   \n",
            "2019-03-06 10:52:36                          963.00   \n",
            "2019-03-06 10:52:37                          963.00   \n",
            "...                                             ...   \n",
            "2019-03-06 14:47:16                         1048.06   \n",
            "2019-03-06 14:47:17                         1048.06   \n",
            "2019-03-06 14:47:18                         1048.06   \n",
            "2019-03-06 14:47:19                         1048.06   \n",
            "2019-03-06 14:47:20                         1048.06   \n",
            "\n",
            "                     Machine1.RawMaterial.Property4  \\\n",
            "time_stamp                                            \n",
            "2019-03-06 10:52:33                             247   \n",
            "2019-03-06 10:52:34                             247   \n",
            "2019-03-06 10:52:35                             247   \n",
            "2019-03-06 10:52:36                             247   \n",
            "2019-03-06 10:52:37                             247   \n",
            "...                                             ...   \n",
            "2019-03-06 14:47:16                             252   \n",
            "2019-03-06 14:47:17                             252   \n",
            "2019-03-06 14:47:18                             252   \n",
            "2019-03-06 14:47:19                             252   \n",
            "2019-03-06 14:47:20                             252   \n",
            "\n",
            "                     Machine1.RawMaterialFeederParameter.U.Actual  \\\n",
            "time_stamp                                                          \n",
            "2019-03-06 10:52:33                                       1241.26   \n",
            "2019-03-06 10:52:34                                       1246.09   \n",
            "2019-03-06 10:52:35                                       1246.29   \n",
            "2019-03-06 10:52:36                                       1247.59   \n",
            "2019-03-06 10:52:37                                       1252.83   \n",
            "...                                                           ...   \n",
            "2019-03-06 14:47:16                                       1263.76   \n",
            "2019-03-06 14:47:17                                       1255.42   \n",
            "2019-03-06 14:47:18                                       1257.52   \n",
            "2019-03-06 14:47:19                                       1261.99   \n",
            "2019-03-06 14:47:20                                       1257.40   \n",
            "\n",
            "                     Machine1.Zone1Temperature.C.Actual  \\\n",
            "time_stamp                                                \n",
            "2019-03-06 10:52:33                                72.0   \n",
            "2019-03-06 10:52:34                                72.0   \n",
            "2019-03-06 10:52:35                                72.0   \n",
            "2019-03-06 10:52:36                                72.0   \n",
            "2019-03-06 10:52:37                                72.1   \n",
            "...                                                 ...   \n",
            "2019-03-06 14:47:16                                72.0   \n",
            "2019-03-06 14:47:17                                72.0   \n",
            "2019-03-06 14:47:18                                72.0   \n",
            "2019-03-06 14:47:19                                72.0   \n",
            "2019-03-06 14:47:20                                72.0   \n",
            "\n",
            "                     Machine1.Zone2Temperature.C.Actual  \\\n",
            "time_stamp                                                \n",
            "2019-03-06 10:52:33                                72.3   \n",
            "2019-03-06 10:52:34                                72.3   \n",
            "2019-03-06 10:52:35                                72.3   \n",
            "2019-03-06 10:52:36                                72.3   \n",
            "2019-03-06 10:52:37                                72.4   \n",
            "...                                                 ...   \n",
            "2019-03-06 14:47:16                                71.8   \n",
            "2019-03-06 14:47:17                                71.8   \n",
            "2019-03-06 14:47:18                                71.8   \n",
            "2019-03-06 14:47:19                                71.9   \n",
            "2019-03-06 14:47:20                                71.9   \n",
            "\n",
            "                     Machine1.MotorAmperage.U.Actual  ...  \\\n",
            "time_stamp                                            ...   \n",
            "2019-03-06 10:52:33                            48.03  ...   \n",
            "2019-03-06 10:52:34                            48.03  ...   \n",
            "2019-03-06 10:52:35                            48.16  ...   \n",
            "2019-03-06 10:52:36                            48.57  ...   \n",
            "2019-03-06 10:52:37                            48.57  ...   \n",
            "...                                              ...  ...   \n",
            "2019-03-06 14:47:16                            73.46  ...   \n",
            "2019-03-06 14:47:17                            73.32  ...   \n",
            "2019-03-06 14:47:18                            73.59  ...   \n",
            "2019-03-06 14:47:19                            74.40  ...   \n",
            "2019-03-06 14:47:20                            73.86  ...   \n",
            "\n",
            "                     Stage2.Output.Measurement10.U.Actual  \\\n",
            "time_stamp                                                  \n",
            "2019-03-06 10:52:33                                  0.00   \n",
            "2019-03-06 10:52:34                                  0.00   \n",
            "2019-03-06 10:52:35                                  0.00   \n",
            "2019-03-06 10:52:36                                  0.00   \n",
            "2019-03-06 10:52:37                                  0.00   \n",
            "...                                                   ...   \n",
            "2019-03-06 14:47:16                                  7.87   \n",
            "2019-03-06 14:47:17                                  7.85   \n",
            "2019-03-06 14:47:18                                  7.93   \n",
            "2019-03-06 14:47:19                                  7.85   \n",
            "2019-03-06 14:47:20                                  7.85   \n",
            "\n",
            "                     Stage2.Output.Measurement10.U.Setpoint  \\\n",
            "time_stamp                                                    \n",
            "2019-03-06 10:52:33                                    7.93   \n",
            "2019-03-06 10:52:34                                    7.93   \n",
            "2019-03-06 10:52:35                                    7.93   \n",
            "2019-03-06 10:52:36                                    7.93   \n",
            "2019-03-06 10:52:37                                    7.93   \n",
            "...                                                     ...   \n",
            "2019-03-06 14:47:16                                    7.93   \n",
            "2019-03-06 14:47:17                                    7.93   \n",
            "2019-03-06 14:47:18                                    7.93   \n",
            "2019-03-06 14:47:19                                    7.93   \n",
            "2019-03-06 14:47:20                                    7.93   \n",
            "\n",
            "                     Stage2.Output.Measurement11.U.Actual  \\\n",
            "time_stamp                                                  \n",
            "2019-03-06 10:52:33                                  0.00   \n",
            "2019-03-06 10:52:34                                  0.00   \n",
            "2019-03-06 10:52:35                                  0.00   \n",
            "2019-03-06 10:52:36                                  0.00   \n",
            "2019-03-06 10:52:37                                  0.00   \n",
            "...                                                   ...   \n",
            "2019-03-06 14:47:16                                  5.53   \n",
            "2019-03-06 14:47:17                                  5.48   \n",
            "2019-03-06 14:47:18                                  5.54   \n",
            "2019-03-06 14:47:19                                  5.51   \n",
            "2019-03-06 14:47:20                                  5.51   \n",
            "\n",
            "                     Stage2.Output.Measurement11.U.Setpoint  \\\n",
            "time_stamp                                                    \n",
            "2019-03-06 10:52:33                                    5.65   \n",
            "2019-03-06 10:52:34                                    5.65   \n",
            "2019-03-06 10:52:35                                    5.65   \n",
            "2019-03-06 10:52:36                                    5.65   \n",
            "2019-03-06 10:52:37                                    5.65   \n",
            "...                                                     ...   \n",
            "2019-03-06 14:47:16                                    5.65   \n",
            "2019-03-06 14:47:17                                    5.65   \n",
            "2019-03-06 14:47:18                                    5.65   \n",
            "2019-03-06 14:47:19                                    5.65   \n",
            "2019-03-06 14:47:20                                    5.65   \n",
            "\n",
            "                     Stage2.Output.Measurement12.U.Actual  \\\n",
            "time_stamp                                                  \n",
            "2019-03-06 10:52:33                                  0.00   \n",
            "2019-03-06 10:52:34                                  0.00   \n",
            "2019-03-06 10:52:35                                  0.00   \n",
            "2019-03-06 10:52:36                                  0.00   \n",
            "2019-03-06 10:52:37                                  0.00   \n",
            "...                                                   ...   \n",
            "2019-03-06 14:47:16                                  2.07   \n",
            "2019-03-06 14:47:17                                  2.01   \n",
            "2019-03-06 14:47:18                                  2.06   \n",
            "2019-03-06 14:47:19                                  2.05   \n",
            "2019-03-06 14:47:20                                  2.05   \n",
            "\n",
            "                     Stage2.Output.Measurement12.U.Setpoint  \\\n",
            "time_stamp                                                    \n",
            "2019-03-06 10:52:33                                    1.85   \n",
            "2019-03-06 10:52:34                                    1.85   \n",
            "2019-03-06 10:52:35                                    1.85   \n",
            "2019-03-06 10:52:36                                    1.85   \n",
            "2019-03-06 10:52:37                                    1.85   \n",
            "...                                                     ...   \n",
            "2019-03-06 14:47:16                                    1.85   \n",
            "2019-03-06 14:47:17                                    1.85   \n",
            "2019-03-06 14:47:18                                    1.85   \n",
            "2019-03-06 14:47:19                                    1.85   \n",
            "2019-03-06 14:47:20                                    1.85   \n",
            "\n",
            "                     Stage2.Output.Measurement13.U.Actual  \\\n",
            "time_stamp                                                  \n",
            "2019-03-06 10:52:33                                  0.00   \n",
            "2019-03-06 10:52:34                                  0.00   \n",
            "2019-03-06 10:52:35                                  0.00   \n",
            "2019-03-06 10:52:36                                  0.00   \n",
            "2019-03-06 10:52:37                                  0.00   \n",
            "...                                                   ...   \n",
            "2019-03-06 14:47:16                                  3.80   \n",
            "2019-03-06 14:47:17                                  3.79   \n",
            "2019-03-06 14:47:18                                  3.83   \n",
            "2019-03-06 14:47:19                                  3.83   \n",
            "2019-03-06 14:47:20                                  3.83   \n",
            "\n",
            "                     Stage2.Output.Measurement13.U.Setpoint  \\\n",
            "time_stamp                                                    \n",
            "2019-03-06 10:52:33                                    2.89   \n",
            "2019-03-06 10:52:34                                    2.89   \n",
            "2019-03-06 10:52:35                                    2.89   \n",
            "2019-03-06 10:52:36                                    2.89   \n",
            "2019-03-06 10:52:37                                    2.89   \n",
            "...                                                     ...   \n",
            "2019-03-06 14:47:16                                    2.89   \n",
            "2019-03-06 14:47:17                                    2.89   \n",
            "2019-03-06 14:47:18                                    2.89   \n",
            "2019-03-06 14:47:19                                    2.89   \n",
            "2019-03-06 14:47:20                                    2.89   \n",
            "\n",
            "                     Stage2.Output.Measurement14.U.Actual  \\\n",
            "time_stamp                                                  \n",
            "2019-03-06 10:52:33                                  0.00   \n",
            "2019-03-06 10:52:34                                  0.00   \n",
            "2019-03-06 10:52:35                                  0.00   \n",
            "2019-03-06 10:52:36                                  0.00   \n",
            "2019-03-06 10:52:37                                  0.00   \n",
            "...                                                   ...   \n",
            "2019-03-06 14:47:16                                  7.56   \n",
            "2019-03-06 14:47:17                                  7.76   \n",
            "2019-03-06 14:47:18                                  7.66   \n",
            "2019-03-06 14:47:19                                  7.87   \n",
            "2019-03-06 14:47:20                                  7.87   \n",
            "\n",
            "                     Stage2.Output.Measurement14.U.Setpoint  \n",
            "time_stamp                                                   \n",
            "2019-03-06 10:52:33                                   11.71  \n",
            "2019-03-06 10:52:34                                   11.71  \n",
            "2019-03-06 10:52:35                                   11.71  \n",
            "2019-03-06 10:52:36                                   11.71  \n",
            "2019-03-06 10:52:37                                   11.71  \n",
            "...                                                     ...  \n",
            "2019-03-06 14:47:16                                   11.71  \n",
            "2019-03-06 14:47:17                                   11.71  \n",
            "2019-03-06 14:47:18                                   11.71  \n",
            "2019-03-06 14:47:19                                   11.71  \n",
            "2019-03-06 14:47:20                                   11.71  \n",
            "\n",
            "[14088 rows x 115 columns]\n"
          ]
        }
      ],
      "source": [
        "print(df)"
      ]
    },
    {
      "cell_type": "code",
      "execution_count": null,
      "id": "fb8e749c",
      "metadata": {
        "execution": {
          "iopub.execute_input": "2023-08-31T04:26:32.261659Z",
          "iopub.status.busy": "2023-08-31T04:26:32.259887Z",
          "iopub.status.idle": "2023-08-31T04:26:32.267429Z",
          "shell.execute_reply": "2023-08-31T04:26:32.266527Z"
        },
        "papermill": {
          "duration": 0.031045,
          "end_time": "2023-08-31T04:26:32.269271",
          "exception": false,
          "start_time": "2023-08-31T04:26:32.238226",
          "status": "completed"
        },
        "tags": [],
        "id": "fb8e749c",
        "outputId": "33528eae-6e47-443d-d72f-bcca2686b426"
      },
      "outputs": [
        {
          "data": {
            "text/plain": [
              "Index(['AmbientConditions.AmbientHumidity.U.Actual',\n",
              "       'AmbientConditions.AmbientTemperature.U.Actual',\n",
              "       'Machine1.RawMaterial.Property1', 'Machine1.RawMaterial.Property2',\n",
              "       'Machine1.RawMaterial.Property3', 'Machine1.RawMaterial.Property4',\n",
              "       'Machine1.RawMaterialFeederParameter.U.Actual',\n",
              "       'Machine1.Zone1Temperature.C.Actual',\n",
              "       'Machine1.Zone2Temperature.C.Actual', 'Machine1.MotorAmperage.U.Actual',\n",
              "       ...\n",
              "       'Stage2.Output.Measurement10.U.Actual',\n",
              "       'Stage2.Output.Measurement10.U.Setpoint',\n",
              "       'Stage2.Output.Measurement11.U.Actual',\n",
              "       'Stage2.Output.Measurement11.U.Setpoint',\n",
              "       'Stage2.Output.Measurement12.U.Actual',\n",
              "       'Stage2.Output.Measurement12.U.Setpoint',\n",
              "       'Stage2.Output.Measurement13.U.Actual',\n",
              "       'Stage2.Output.Measurement13.U.Setpoint',\n",
              "       'Stage2.Output.Measurement14.U.Actual',\n",
              "       'Stage2.Output.Measurement14.U.Setpoint'],\n",
              "      dtype='object', length=115)"
            ]
          },
          "execution_count": 5,
          "metadata": {},
          "output_type": "execute_result"
        }
      ],
      "source": [
        "df.columns"
      ]
    },
    {
      "cell_type": "code",
      "execution_count": null,
      "id": "bc399717",
      "metadata": {
        "execution": {
          "iopub.execute_input": "2023-08-31T04:26:32.307838Z",
          "iopub.status.busy": "2023-08-31T04:26:32.307078Z",
          "iopub.status.idle": "2023-08-31T04:26:32.319301Z",
          "shell.execute_reply": "2023-08-31T04:26:32.318665Z"
        },
        "papermill": {
          "duration": 0.0337,
          "end_time": "2023-08-31T04:26:32.321129",
          "exception": false,
          "start_time": "2023-08-31T04:26:32.287429",
          "status": "completed"
        },
        "tags": [],
        "id": "bc399717",
        "outputId": "a04c3578-5d86-4a2d-e070-ec680df1a01d"
      },
      "outputs": [
        {
          "data": {
            "text/plain": [
              "AmbientConditions.AmbientHumidity.U.Actual       0\n",
              "AmbientConditions.AmbientTemperature.U.Actual    0\n",
              "Machine1.RawMaterial.Property1                   0\n",
              "Machine1.RawMaterial.Property2                   0\n",
              "Machine1.RawMaterial.Property3                   0\n",
              "                                                ..\n",
              "Stage2.Output.Measurement12.U.Setpoint           0\n",
              "Stage2.Output.Measurement13.U.Actual             0\n",
              "Stage2.Output.Measurement13.U.Setpoint           0\n",
              "Stage2.Output.Measurement14.U.Actual             0\n",
              "Stage2.Output.Measurement14.U.Setpoint           0\n",
              "Length: 115, dtype: int64"
            ]
          },
          "execution_count": 6,
          "metadata": {},
          "output_type": "execute_result"
        }
      ],
      "source": [
        "df.isnull().sum()\n",
        "# 결측치 무"
      ]
    },
    {
      "cell_type": "code",
      "execution_count": null,
      "id": "cfee8f62",
      "metadata": {
        "execution": {
          "iopub.execute_input": "2023-08-31T04:26:32.359515Z",
          "iopub.status.busy": "2023-08-31T04:26:32.359231Z",
          "iopub.status.idle": "2023-08-31T04:26:32.379273Z",
          "shell.execute_reply": "2023-08-31T04:26:32.378204Z"
        },
        "papermill": {
          "duration": 0.041918,
          "end_time": "2023-08-31T04:26:32.381621",
          "exception": false,
          "start_time": "2023-08-31T04:26:32.339703",
          "status": "completed"
        },
        "tags": [],
        "id": "cfee8f62",
        "outputId": "bcc21a1e-2c65-42ae-8d79-27c7868fe9ce"
      },
      "outputs": [
        {
          "name": "stdout",
          "output_type": "stream",
          "text": [
            "<class 'pandas.core.frame.DataFrame'>\n",
            "Index: 14088 entries, 2019-03-06 10:52:33 to 2019-03-06 14:47:20\n",
            "Columns: 115 entries, AmbientConditions.AmbientHumidity.U.Actual to Stage2.Output.Measurement14.U.Setpoint\n",
            "dtypes: float64(108), int64(7)\n",
            "memory usage: 12.5+ MB\n"
          ]
        }
      ],
      "source": [
        "df.info()\n",
        "# 총 컬럼의 개수 115"
      ]
    },
    {
      "cell_type": "code",
      "execution_count": null,
      "id": "6bf25b12",
      "metadata": {
        "execution": {
          "iopub.execute_input": "2023-08-31T04:26:32.420447Z",
          "iopub.status.busy": "2023-08-31T04:26:32.420090Z",
          "iopub.status.idle": "2023-08-31T04:26:32.426563Z",
          "shell.execute_reply": "2023-08-31T04:26:32.425524Z"
        },
        "papermill": {
          "duration": 0.028359,
          "end_time": "2023-08-31T04:26:32.428639",
          "exception": false,
          "start_time": "2023-08-31T04:26:32.400280",
          "status": "completed"
        },
        "tags": [],
        "id": "6bf25b12",
        "outputId": "e686fefb-fd3e-4ba8-be72-edcd700766f6"
      },
      "outputs": [
        {
          "data": {
            "text/plain": [
              "(14088, 115)"
            ]
          },
          "execution_count": 8,
          "metadata": {},
          "output_type": "execute_result"
        }
      ],
      "source": [
        "df.shape"
      ]
    },
    {
      "cell_type": "code",
      "execution_count": null,
      "id": "d6199377",
      "metadata": {
        "execution": {
          "iopub.execute_input": "2023-08-31T04:26:32.468232Z",
          "iopub.status.busy": "2023-08-31T04:26:32.467863Z",
          "iopub.status.idle": "2023-08-31T04:26:32.507401Z",
          "shell.execute_reply": "2023-08-31T04:26:32.506657Z"
        },
        "papermill": {
          "duration": 0.062747,
          "end_time": "2023-08-31T04:26:32.509864",
          "exception": false,
          "start_time": "2023-08-31T04:26:32.447117",
          "status": "completed"
        },
        "tags": [],
        "id": "d6199377",
        "outputId": "d8ff5960-0db5-45e2-e6fe-af61e16de656"
      },
      "outputs": [
        {
          "data": {
            "text/plain": [
              "Stage2.Output.Measurement14.U.Setpoint             1\n",
              "Stage2.Output.Measurement0.U.Setpoint              1\n",
              "Stage2.Output.Measurement2.U.Setpoint              1\n",
              "Stage2.Output.Measurement3.U.Setpoint              1\n",
              "Stage2.Output.Measurement4.U.Setpoint              1\n",
              "                                                ... \n",
              "Machine3.MotorAmperage.U.Actual                 3395\n",
              "Machine1.MaterialPressure.U.Actual              3655\n",
              "Machine2.RawMaterialFeederParameter.U.Actual    5127\n",
              "Machine3.RawMaterialFeederParameter.U.Actual    5145\n",
              "Machine1.RawMaterialFeederParameter.U.Actual    6057\n",
              "Length: 115, dtype: int64"
            ]
          },
          "execution_count": 9,
          "metadata": {},
          "output_type": "execute_result"
        }
      ],
      "source": [
        "df.nunique().sort_values()"
      ]
    },
    {
      "cell_type": "markdown",
      "id": "d30de238",
      "metadata": {
        "papermill": {
          "duration": 0.022501,
          "end_time": "2023-08-31T04:26:32.561878",
          "exception": false,
          "start_time": "2023-08-31T04:26:32.539377",
          "status": "completed"
        },
        "tags": [],
        "id": "d30de238"
      },
      "source": [
        "함께 첨부된  txt 파일 내용 참조\n",
        "\n",
        "물리적 설정에 대한 설명:\n",
        "이 데이터는 연속 흐름 프로세스에서 가져옵니다.\n",
        "샘플링 속도는 1Hz입니다.\n",
        "첫 번째 단계에서 기계 1, 2, 3은 병렬로 작동하고 흐름을 결합하는 단계로 출력을 공급합니다.\n",
        "결합기의 출력은 15개 위치에서 측정됩니다. 이러한 측정값은 예측해야 하는 주요 측정값입니다.\n",
        "다음으로, 출력은 기계 4와 5가 직렬로 처리되는 두 번째 단계로 흐릅니다.\n",
        "동일한 15개 위치에서 측정이 다시 수행됩니다. 이것들은 예측할 2차 측정입니다.\n",
        "\n",
        "측정값이 노이즈가 많습니다.\n",
        "각 측정에는 목표값 또는 설정점도 있습니다(설정점은 데이터의 첫 번째 행에 포함됨).\n",
        "목표는 15개 측정 중 가능한 한 많은 측정치(또는 오차 대 설정점)를 예측하는 것입니다.\n",
        "어떤 측정은 다른 측정보다 더 예측 가능할 것입니다!\n",
        "첫 번째 단계 이후의 측정치 예측이 주요 관심사입니다.\n",
        "두 번째 단계 이후의 측정값 예측은 유용하지만 데이터는 훨씬 더 잡음이 많습니다.\n",
        "\n",
        "변수 명명 규칙에 대한 참고 사항\n",
        "제어 변수에 대한 ~.C. 설정점 설정점\n",
        "~.C.제어된 변수의 실제 실제 값\n",
        "~.U.제어되지 않은 변수의 실제 실제 값\n",
        "기타 환경 또는 원자재 변수, 상태/사건 등.\n",
        "\n",
        "시작 열 끝 설명\n",
        "00 타임스탬프\n",
        "12 공장 주변 조건\n",
        "36 1단계, 기계 1, 원료 특성(기계 1로 들어가는 재료)\n",
        "714 1단계, 기계 1 공정 변수\n",
        "15 18 1단계, 기계 2, 원료 특성(기계 2로 들어가는 재료)\n",
        "1926 1단계, 기계 2 공정 변수\n",
        "2730 첫 번째 단계, 기계 3, 원료 특성(기계 3으로 들어가는 재료)\n",
        "3138 1단계, 기계 3 공정 변수\n",
        "3941 결합기 단계 프로세스 매개변수. 여기서는 기계 1, 2, 3의 출력을 결합합니다.\n",
        "4271차 제어 출력: 각각의 설정점 또는 목표와 함께 15개의 형상 측정(mm)\n",
        "7278 2단계, 기계 4 공정 변수\n",
        "7985 2단계, 기계 5 공정 변수\n",
        "86 115 2차 제어 출력: 각각의 설정점 또는 목표와 함께 15개 형상의 측정(mm)"
      ]
    },
    {
      "cell_type": "markdown",
      "id": "4880df01",
      "metadata": {
        "papermill": {
          "duration": 0.018563,
          "end_time": "2023-08-31T04:26:32.599473",
          "exception": false,
          "start_time": "2023-08-31T04:26:32.580910",
          "status": "completed"
        },
        "tags": [],
        "id": "4880df01"
      },
      "source": [
        "# 노트 설명에 대한 내 생각 요약\n",
        "# 1단계-1 : 기계 1,2,3 병렬적 작동 => 흐름이 결합됨\n",
        "# 1단계-2 : 결합기 출력 15개 위치에서 측정 => 예측해야 하는 주요 측정값\n",
        "# 1단계의 출력은 2단계 기계 4,5로 흐름 => 1단계 출력이 2단계 출력에 영향을 미친다? 사료됨\n",
        "# 2단계-1 : 기계 4,5 직렬 처리\n",
        "# 2단계-2 : 동일한 15개 위치에서 측정 재수행 => 예측할 2차 측정값\n",
        "\n",
        "# 목표값, 설정값 : 설정점 데이터 첫번째 행\n",
        "# 목표 : 15개 측정 중 가능한 한 많은 측정치 or 측정 대 설정점 예측\n",
        "# ~.C.Setpoint : 제어 변수에 대한 설정점\n",
        "# ~.C.Actual : 제어 변수의 실제 값\n",
        "# ~.U.Actual : 제어되지 않은 실제 값"
      ]
    },
    {
      "cell_type": "code",
      "execution_count": null,
      "id": "021be827",
      "metadata": {
        "execution": {
          "iopub.execute_input": "2023-08-31T04:26:32.639371Z",
          "iopub.status.busy": "2023-08-31T04:26:32.639049Z",
          "iopub.status.idle": "2023-08-31T04:26:32.651424Z",
          "shell.execute_reply": "2023-08-31T04:26:32.650030Z"
        },
        "papermill": {
          "duration": 0.03445,
          "end_time": "2023-08-31T04:26:32.652880",
          "exception": true,
          "start_time": "2023-08-31T04:26:32.618430",
          "status": "failed"
        },
        "tags": [],
        "id": "021be827",
        "outputId": "8fb0eeb7-5e7d-4fb5-8c93-e963090e411c"
      },
      "outputs": [
        {
          "ename": "SyntaxError",
          "evalue": "invalid syntax (3326266819.py, line 3)",
          "output_type": "error",
          "traceback": [
            "\u001b[0;36m  Cell \u001b[0;32mIn[10], line 3\u001b[0;36m\u001b[0m\n\u001b[0;31m    ------------------------------------------------------------------------------------\u001b[0m\n\u001b[0m                                                                                        ^\u001b[0m\n\u001b[0;31mSyntaxError\u001b[0m\u001b[0;31m:\u001b[0m invalid syntax\n"
          ]
        }
      ],
      "source": [
        "# time_stamp : 시간 - 필요없을 것이라고 사료되어 삭제 검토\n",
        "\n",
        "------------------------------------------------------------------------------------\n",
        "\n",
        "# 공장 주변 조건\n",
        "# AmbientConditions.AmbientHumidity.U.Actual : 주위 환경.주위 습도. 제어되지 않은 실제 값\n",
        "# AmbientConditions.AmbientTemperature.U.Actual : 주위 환경.주위 온도. 제어되지 않은 실제 값\n",
        "\n",
        "------------------------------------------------------------------------------------\n",
        "\n",
        "# 1단계, 기계 1, 원료 특성(기계 1로 들어가는 재료)\n",
        "# Machine1.RawMaterial.Property1 : 기계1.원재료.속성1\n",
        "# Machine1.RawMaterial.Property1 : 기계1.원재료.속성2\n",
        "# Machine1.RawMaterial.Property1 : 기계1.원재료.속성3\n",
        "# Machine1.RawMaterial.Property1 : 기계1.원재료.속성4\n",
        "\n",
        "------------------------------------------------------------------------------------\n",
        "\n",
        "#1단계, 기계 1 공정 변수\n",
        "# Machine1.RawMaterialFeederParameter : 기계1.원재료 공급 매개 변수\n",
        "# Machine1.Zone1Temperature.C.Actual : 기계1.구역1 온도.제어 변수의 실제 값\n",
        "# Machine1.RawMaterialFeederParameter.U.Actual : 기계1.원재료 공급 매개 변수.제어되지 않은 실제 값\n",
        "# Machine1.Zone1Temperature.C.Actual : 기계1.구역1 온도.제어 변수의 실제 값\n",
        "# Machine1.Zone2Temperature.C.Actual : 기계1.구역2 온도. 제어 변수의 실제 값\n",
        "# Machine1.MotorAmperage.U.Actual : 기계1.모터 암페어.제어되지 않은 실제 값 / 암페어 : 전류의 단위\n",
        "# Machine1.MotorRPM.C.Actual : 기계1.모터 회전수.제어 변수의 실제 값\n",
        "# Machine1.MaterialPressure.U.Actual : 기계1.재료 압력.제어되지 않은 실제 값\n",
        "# Machine1.MaterialTemperature.U.Actual : 기계1.재료 온도.제어되지 않은 실제 값\n",
        "# Machine1.ExitZoneTemperature.C.Actual : 기계1.출구 구역 온도.제어 변수의 실제\n",
        "\n",
        "------------------------------------------------------------------------------------\n",
        "\n",
        "# 기계 2 ~ 3도 기계1과 동일한 인덱스로 반복됨\n"
      ]
    },
    {
      "cell_type": "code",
      "execution_count": null,
      "id": "775ea2ab",
      "metadata": {
        "execution": {
          "iopub.status.busy": "2023-08-29T15:12:18.548661Z",
          "iopub.status.idle": "2023-08-29T15:12:18.549209Z",
          "shell.execute_reply": "2023-08-29T15:12:18.548975Z",
          "shell.execute_reply.started": "2023-08-29T15:12:18.548954Z"
        },
        "papermill": {
          "duration": null,
          "end_time": null,
          "exception": null,
          "start_time": null,
          "status": "pending"
        },
        "tags": [],
        "id": "775ea2ab"
      },
      "outputs": [],
      "source": [
        "# 결합기 단계 프로세스 매개변수. 여기서는 기계 1, 2, 3의 출력을 결합합니다.\n",
        "# FirstStage.CombinerOperation.Temperature1.U.Actual : 1단계.결합기 작동.온도1.제어되지 않은 실제 값\n",
        "# FirstStage.CombinerOperation.Temperature2.U.Actual : 1단계.결합기 작동.온도2.제어되지 않은 실제 값\n",
        "# FirstStage.CombinerOperation.Temperature3.C.Actual : 1단계.결합기 작동.온도3.제어 변수의 실제 값\n",
        "# Stage1.Output.Measurement0.U.Actual : 1단계.출력.측정0.제어되지 않은 실제 값\n",
        "# Stage1.Output.Measurement0.U.Setpoint : 1단계.출력.측정0.제어 변수에 대한 설정점\n",
        "# Stage1.Output.Measurement1.U.Actual : 1단계.출력.측정1.제어되지 않은 실제 값\n",
        "# Stage1.Output.Measurement1.U.Setpoint : 1단계.출력.측정1.제어 변수에 대한 설정점\n",
        "# Stage1.Output.Measurement2.U.Actual : 1단계.출력.측정2.제어되지 않은 실제 값\n",
        "# Stage1.Output.Measurement2.U.Setpoint : 1단계.출력.측정2.제어 변수에 대한 설정점\n",
        "# Stage1.Output.Measurement3.U.Actual\n",
        "# Stage1.Output.Measurement3.U.Setpoint\n",
        "# Stage1.Output.Measurement4.U.Actual\n",
        "# Stage1.Output.Measurement4.U.Setpoint\n",
        "# Stage1.Output.Measurement5.U.Actual\n",
        "# Stage1.Output.Measurement5.U.Setpoint\n",
        "# Stage1.Output.Measurement6.U.Actual\n",
        "# Stage1.Output.Measurement6.U.Setpoint\n",
        "# Stage1.Output.Measurement7.U.Actual\n",
        "# Stage1.Output.Measurement7.U.Setpoint\n",
        "# Stage1.Output.Measurement8.U.Actual\n",
        "# Stage1.Output.Measurement8.U.Setpoint\n",
        "# Stage1.Output.Measurement9.U.Actual\n",
        "# Stage1.Output.Measurement9.U.Setpoint\n",
        "# Stage1.Output.Measurement10.U.Actual\n",
        "# Stage1.Output.Measurement10.U.Setpoint\n",
        "# Stage1.Output.Measurement11.U.Actual\n",
        "# Stage1.Output.Measurement11.U.Setpoint\n",
        "# Stage1.Output.Measurement12.U.Actual\n",
        "# Stage1.Output.Measurement12.U.Setpoint\n",
        "# Stage1.Output.Measurement13.U.Actual\n",
        "# Stage1.Output.Measurement13.U.Setpoint\n",
        "# Stage1.Output.Measurement14.U.Actual\n",
        "# Stage1.Output.Measurement14.U.Setpoint\n",
        "# 1단계 측정0 ~ 14까지의 제어되지 앟은 실제 값과 제어 변숭 대한 설정점 반복\n"
      ]
    },
    {
      "cell_type": "code",
      "execution_count": null,
      "id": "bb154ec8",
      "metadata": {
        "execution": {
          "iopub.status.busy": "2023-08-29T15:12:18.553099Z",
          "iopub.status.idle": "2023-08-29T15:12:18.554951Z",
          "shell.execute_reply": "2023-08-29T15:12:18.554587Z",
          "shell.execute_reply.started": "2023-08-29T15:12:18.554549Z"
        },
        "papermill": {
          "duration": null,
          "end_time": null,
          "exception": null,
          "start_time": null,
          "status": "pending"
        },
        "tags": [],
        "id": "bb154ec8"
      },
      "outputs": [],
      "source": [
        "# 2단계, 기계 4 공정 변수\n",
        "# Machine4.Temperature1.C.Actual : 기계4.온도1.제어 변수의 실제 값\n",
        "# Machine4.Temperature2.C.Actual : 기계4.온도2. 제어 변수의 실제 값\n",
        "# Machine4.Pressure.C.Actual : 기계4.압력.제어 변수의 실제 값\n",
        "# Machine4.Temperature3.C.Actual : 기계4.온도3.제어 변수의 실제 값\n",
        "# Machine4.Temperature4.C.Actual : 기계4.온도4.제어 변수의 실제 값\n",
        "# Machine4.Temperature5.C.Actual : 기계4.온도5.제어 변수의 실제 값\n",
        "# Machine4.ExitTemperature.U.Actual : 기계4.출구 온도.제어되지 않은 실제 값\n",
        "\n",
        "------------------------------------------------------------------------------------\n",
        "\n",
        "# 2단계, 기계 5 공정 변수\n",
        "# Machine5.Temperature1.C.Actual : 기계5.온도1.제어 변수의 실제 값\n",
        "# Machine5.Temperature2.C.Actual : 기계5.온도2.제어 변수의 실제 값\n",
        "# Machine5.Temperature3.C.Actual : 기계5.온도3.제어 변수의 실제 값\n",
        "# Machine5.Temperature4.C.Actual : 기계5.온도4.제어 변수의 실제 값\n",
        "# Machine5.Temperature5.C.Actual : 기계5.온도5.제어 변수의 실제 값\n",
        "# Machine5.Temperature6.C.Actual : 기계5.온도5.제어 변수의 실제 값\n",
        "# Machine5.ExitTemperature.U.Actual : 기계5.출구 온도.제어되지 않은 실제 값\n"
      ]
    },
    {
      "cell_type": "code",
      "execution_count": null,
      "id": "6de0c6bf",
      "metadata": {
        "execution": {
          "iopub.status.busy": "2023-08-29T15:12:18.557089Z",
          "iopub.status.idle": "2023-08-29T15:12:18.557764Z",
          "shell.execute_reply": "2023-08-29T15:12:18.557467Z",
          "shell.execute_reply.started": "2023-08-29T15:12:18.557438Z"
        },
        "papermill": {
          "duration": null,
          "end_time": null,
          "exception": null,
          "start_time": null,
          "status": "pending"
        },
        "tags": [],
        "id": "6de0c6bf"
      },
      "outputs": [],
      "source": [
        "# 2차 제어 출력: 각각의 설정점 또는 목표와 함께 15개 형상의 측정(mm)\n",
        "# Stage2 ~ : Stage1과 동일함"
      ]
    },
    {
      "cell_type": "code",
      "execution_count": null,
      "id": "1f4ab185",
      "metadata": {
        "execution": {
          "iopub.execute_input": "2023-08-31T03:46:15.961987Z",
          "iopub.status.busy": "2023-08-31T03:46:15.961563Z",
          "iopub.status.idle": "2023-08-31T03:46:15.998894Z",
          "shell.execute_reply": "2023-08-31T03:46:15.997757Z",
          "shell.execute_reply.started": "2023-08-31T03:46:15.961956Z"
        },
        "papermill": {
          "duration": null,
          "end_time": null,
          "exception": null,
          "start_time": null,
          "status": "pending"
        },
        "tags": [],
        "id": "1f4ab185"
      },
      "outputs": [],
      "source": [
        "df.head()"
      ]
    },
    {
      "cell_type": "code",
      "execution_count": null,
      "id": "6ae17a80",
      "metadata": {
        "execution": {
          "iopub.execute_input": "2023-08-31T03:46:26.273999Z",
          "iopub.status.busy": "2023-08-31T03:46:26.273530Z",
          "iopub.status.idle": "2023-08-31T03:46:26.287371Z",
          "shell.execute_reply": "2023-08-31T03:46:26.285974Z",
          "shell.execute_reply.started": "2023-08-31T03:46:26.273962Z"
        },
        "papermill": {
          "duration": null,
          "end_time": null,
          "exception": null,
          "start_time": null,
          "status": "pending"
        },
        "tags": [],
        "id": "6ae17a80"
      },
      "outputs": [],
      "source": [
        "# df의 정보 확인\n",
        "print(df.info())"
      ]
    },
    {
      "cell_type": "markdown",
      "id": "a5db25bb",
      "metadata": {
        "papermill": {
          "duration": null,
          "end_time": null,
          "exception": null,
          "start_time": null,
          "status": "pending"
        },
        "tags": [],
        "id": "a5db25bb"
      },
      "source": [
        "# 설정점과 실제 값 파일 나누기"
      ]
    },
    {
      "cell_type": "code",
      "execution_count": null,
      "id": "5e74a6bf",
      "metadata": {
        "execution": {
          "iopub.execute_input": "2023-08-31T03:46:28.175040Z",
          "iopub.status.busy": "2023-08-31T03:46:28.174188Z",
          "iopub.status.idle": "2023-08-31T03:46:28.213448Z",
          "shell.execute_reply": "2023-08-31T03:46:28.212025Z",
          "shell.execute_reply.started": "2023-08-31T03:46:28.174999Z"
        },
        "papermill": {
          "duration": null,
          "end_time": null,
          "exception": null,
          "start_time": null,
          "status": "pending"
        },
        "tags": [],
        "id": "5e74a6bf"
      },
      "outputs": [],
      "source": [
        "# Setpoint는 실제 값이 아닌 기준점(설정점)으로 setpoint만 모아서 하나의 데이터프레임으로 재구성해놓기\n",
        "setpoint_col = 42\n",
        "\n",
        "df_setpoint = df.iloc[ : , setpoint_col::2 ]\n",
        "df_setpoint.head()"
      ]
    },
    {
      "cell_type": "code",
      "execution_count": null,
      "id": "e3eae07a",
      "metadata": {
        "execution": {
          "iopub.execute_input": "2023-08-31T03:46:29.908327Z",
          "iopub.status.busy": "2023-08-31T03:46:29.907243Z",
          "iopub.status.idle": "2023-08-31T03:46:29.928385Z",
          "shell.execute_reply": "2023-08-31T03:46:29.926726Z",
          "shell.execute_reply.started": "2023-08-31T03:46:29.908276Z"
        },
        "papermill": {
          "duration": null,
          "end_time": null,
          "exception": null,
          "start_time": null,
          "status": "pending"
        },
        "tags": [],
        "id": "e3eae07a"
      },
      "outputs": [],
      "source": [
        "print(df_setpoint.head())"
      ]
    },
    {
      "cell_type": "code",
      "execution_count": null,
      "id": "5ef3c0ab",
      "metadata": {
        "execution": {
          "iopub.execute_input": "2023-08-31T03:46:32.931911Z",
          "iopub.status.busy": "2023-08-31T03:46:32.931509Z",
          "iopub.status.idle": "2023-08-31T03:46:32.949000Z",
          "shell.execute_reply": "2023-08-31T03:46:32.947809Z",
          "shell.execute_reply.started": "2023-08-31T03:46:32.931881Z"
        },
        "papermill": {
          "duration": null,
          "end_time": null,
          "exception": null,
          "start_time": null,
          "status": "pending"
        },
        "tags": [],
        "id": "5ef3c0ab"
      },
      "outputs": [],
      "source": [
        "df_setpoint.info()"
      ]
    },
    {
      "cell_type": "code",
      "execution_count": null,
      "id": "1cb43761",
      "metadata": {
        "execution": {
          "iopub.execute_input": "2023-08-31T03:46:35.081477Z",
          "iopub.status.busy": "2023-08-31T03:46:35.080696Z",
          "iopub.status.idle": "2023-08-31T03:46:35.100991Z",
          "shell.execute_reply": "2023-08-31T03:46:35.099578Z",
          "shell.execute_reply.started": "2023-08-31T03:46:35.081441Z"
        },
        "papermill": {
          "duration": null,
          "end_time": null,
          "exception": null,
          "start_time": null,
          "status": "pending"
        },
        "tags": [],
        "id": "1cb43761"
      },
      "outputs": [],
      "source": [
        "# 설정점에 해당하지 않는 열도 포함되어 있어 삭제 필요\n",
        "df_setpoint = df_setpoint.drop(df_setpoint.columns[15:22], axis=1)\n",
        "df_setpoint.info()"
      ]
    },
    {
      "cell_type": "code",
      "execution_count": null,
      "id": "2ed053d1",
      "metadata": {
        "execution": {
          "iopub.execute_input": "2023-08-31T03:46:38.468087Z",
          "iopub.status.busy": "2023-08-31T03:46:38.467397Z",
          "iopub.status.idle": "2023-08-31T03:46:38.478791Z",
          "shell.execute_reply": "2023-08-31T03:46:38.477655Z",
          "shell.execute_reply.started": "2023-08-31T03:46:38.468051Z"
        },
        "papermill": {
          "duration": null,
          "end_time": null,
          "exception": null,
          "start_time": null,
          "status": "pending"
        },
        "tags": [],
        "id": "2ed053d1"
      },
      "outputs": [],
      "source": [
        "# 결측값 무\n",
        "df_setpoint.isnull().sum()"
      ]
    },
    {
      "cell_type": "code",
      "execution_count": null,
      "id": "a62e6b64",
      "metadata": {
        "execution": {
          "iopub.execute_input": "2023-08-31T03:46:40.097704Z",
          "iopub.status.busy": "2023-08-31T03:46:40.097282Z",
          "iopub.status.idle": "2023-08-31T03:46:40.105365Z",
          "shell.execute_reply": "2023-08-31T03:46:40.104027Z",
          "shell.execute_reply.started": "2023-08-31T03:46:40.097672Z"
        },
        "papermill": {
          "duration": null,
          "end_time": null,
          "exception": null,
          "start_time": null,
          "status": "pending"
        },
        "tags": [],
        "id": "a62e6b64"
      },
      "outputs": [],
      "source": [
        "df_setpoint.shape"
      ]
    },
    {
      "cell_type": "code",
      "execution_count": null,
      "id": "bb554823",
      "metadata": {
        "execution": {
          "iopub.execute_input": "2023-08-31T03:46:41.110614Z",
          "iopub.status.busy": "2023-08-31T03:46:41.109824Z",
          "iopub.status.idle": "2023-08-31T03:46:41.151545Z",
          "shell.execute_reply": "2023-08-31T03:46:41.150345Z",
          "shell.execute_reply.started": "2023-08-31T03:46:41.110567Z"
        },
        "papermill": {
          "duration": null,
          "end_time": null,
          "exception": null,
          "start_time": null,
          "status": "pending"
        },
        "tags": [],
        "id": "bb554823"
      },
      "outputs": [],
      "source": [
        "# 설정점을 제외하고 새로운 df 구성해놓기\n",
        "new_df = df.drop(columns=df_setpoint.columns)\n",
        "new_df.head()"
      ]
    },
    {
      "cell_type": "code",
      "execution_count": null,
      "id": "c79dc31d",
      "metadata": {
        "execution": {
          "iopub.execute_input": "2023-08-31T03:46:42.778405Z",
          "iopub.status.busy": "2023-08-31T03:46:42.777967Z",
          "iopub.status.idle": "2023-08-31T03:46:42.801741Z",
          "shell.execute_reply": "2023-08-31T03:46:42.800489Z",
          "shell.execute_reply.started": "2023-08-31T03:46:42.778370Z"
        },
        "papermill": {
          "duration": null,
          "end_time": null,
          "exception": null,
          "start_time": null,
          "status": "pending"
        },
        "tags": [],
        "id": "c79dc31d"
      },
      "outputs": [],
      "source": [
        "new_df.info(), new_df.shape\n",
        "# Setpoint는 제외된 df 구성됨\n",
        "# shape(14088, 78)"
      ]
    },
    {
      "cell_type": "code",
      "execution_count": null,
      "id": "4d32dd93",
      "metadata": {
        "execution": {
          "iopub.execute_input": "2023-08-31T03:46:48.732395Z",
          "iopub.status.busy": "2023-08-31T03:46:48.731966Z",
          "iopub.status.idle": "2023-08-31T03:46:48.764640Z",
          "shell.execute_reply": "2023-08-31T03:46:48.763429Z",
          "shell.execute_reply.started": "2023-08-31T03:46:48.732361Z"
        },
        "papermill": {
          "duration": null,
          "end_time": null,
          "exception": null,
          "start_time": null,
          "status": "pending"
        },
        "tags": [],
        "id": "4d32dd93"
      },
      "outputs": [],
      "source": [
        "# new_df에서 1단계 기계 출력 전 / 기계 출력 / 2단계 기계 출력 전 / 기계 출력으로 분리하기\n",
        "# 인덱스 0,1은 주변환경에 대한 열로 1단계, 2단계 공통적으로 적용되어야 함\n",
        "# 1단계 결합기 전\n",
        "\n",
        "first_ma = new_df.values[:, 0:41] # 값만\n",
        "first_mac = new_df.columns[0:41] # 열 이름만\n",
        "first_mag = pd.DataFrame(data=first_ma, columns=first_mac)\n",
        "first_magg = pd.DataFrame(data=first_ma)\n",
        "\n",
        "# 1단계 기계 출력\n",
        "first_ma_stage1 = new_df.values[:, 41:56]\n",
        "first_mac_stage1 = new_df.columns[41:56]\n",
        "first_mag_stage1 = pd.DataFrame(data=first_ma_stage1, columns=first_mac_stage1)\n",
        "\n",
        "print(first_mag.info())\n",
        "print(first_mag_stage1.info())"
      ]
    },
    {
      "cell_type": "code",
      "execution_count": null,
      "id": "75be8c4a",
      "metadata": {
        "execution": {
          "iopub.execute_input": "2023-08-31T03:46:51.402641Z",
          "iopub.status.busy": "2023-08-31T03:46:51.402072Z",
          "iopub.status.idle": "2023-08-31T03:46:51.438329Z",
          "shell.execute_reply": "2023-08-31T03:46:51.436984Z",
          "shell.execute_reply.started": "2023-08-31T03:46:51.402564Z"
        },
        "papermill": {
          "duration": null,
          "end_time": null,
          "exception": null,
          "start_time": null,
          "status": "pending"
        },
        "tags": [],
        "id": "75be8c4a"
      },
      "outputs": [],
      "source": [
        "# 2단계\n",
        "se = [0, 1, 56, 57, 58, 59, 60, 61, 62, 63, 64, 65, 66, 67, 68, 69] # 주변 환경에 대한 정보 + 기계 4,5\n",
        "\n",
        "second_ma = new_df.values[:, se] # 값만\n",
        "second_mac = new_df.columns[se] # 열 이름만\n",
        "second_mag = pd.DataFrame(data=second_ma, columns=second_mac)\n",
        "second_magg = pd.DataFrame(data=second_ma)\n",
        "\n",
        "# 2단계 기계 출력\n",
        "second_ma_stage2 = new_df.values[:, 70:]\n",
        "second_mac_stage2 = new_df.columns[70:]\n",
        "second_mag_stage2 = pd.DataFrame(data=second_ma_stage2, columns=second_mac_stage2)\n",
        "\n",
        "print(second_mag.info())\n",
        "print(second_mag_stage2.info())"
      ]
    },
    {
      "cell_type": "code",
      "execution_count": null,
      "id": "17eb98ae",
      "metadata": {
        "execution": {
          "iopub.execute_input": "2023-08-31T03:46:55.347779Z",
          "iopub.status.busy": "2023-08-31T03:46:55.347329Z",
          "iopub.status.idle": "2023-08-31T03:46:55.376678Z",
          "shell.execute_reply": "2023-08-31T03:46:55.375272Z",
          "shell.execute_reply.started": "2023-08-31T03:46:55.347742Z"
        },
        "papermill": {
          "duration": null,
          "end_time": null,
          "exception": null,
          "start_time": null,
          "status": "pending"
        },
        "tags": [],
        "id": "17eb98ae"
      },
      "outputs": [],
      "source": [
        "# 1단계 출력이 2단계 출력에 미치는 영향을 확인하기 위함\n",
        "th = [0, 1, 41, 42, 43, 44, 45, 46, 47, 48, 49, 50, 51, 52, 53, 54, 55, 56, 57, 58, 59, 60, 61, 62, 63, 64, 65, 66, 67, 68, 69]\n",
        "third_ma = new_df.values[:, th]\n",
        "third_mac = new_df.columns[th]\n",
        "third_mag = pd.DataFrame(data=third_ma, columns = third_mac)\n",
        "third_magg = pd.DataFrame(data=third_ma)\n",
        "third_mag_stage3 = second_mag_stage2\n",
        "\n",
        "print(third_mag.info())\n",
        "print(third_mag_stage3.info())"
      ]
    },
    {
      "cell_type": "markdown",
      "id": "cc8aaae1",
      "metadata": {
        "papermill": {
          "duration": null,
          "end_time": null,
          "exception": null,
          "start_time": null,
          "status": "pending"
        },
        "tags": [],
        "id": "cc8aaae1"
      },
      "source": [
        "# 예측"
      ]
    },
    {
      "cell_type": "code",
      "execution_count": null,
      "id": "1fba09af",
      "metadata": {
        "execution": {
          "iopub.execute_input": "2023-08-31T03:46:59.260704Z",
          "iopub.status.busy": "2023-08-31T03:46:59.260308Z",
          "iopub.status.idle": "2023-08-31T03:48:03.630854Z",
          "shell.execute_reply": "2023-08-31T03:48:03.629788Z",
          "shell.execute_reply.started": "2023-08-31T03:46:59.260674Z"
        },
        "papermill": {
          "duration": null,
          "end_time": null,
          "exception": null,
          "start_time": null,
          "status": "pending"
        },
        "tags": [],
        "id": "1fba09af"
      },
      "outputs": [],
      "source": [
        "# 1단계 정확도 예측\n",
        "for n in range (len(first_mac_stage1)):\n",
        "    yi = first_mag_stage1.values[:, n]\n",
        "    cols = list(first_magg.columns)\n",
        "    pmax = 1\n",
        "    while len(cols) > 0:\n",
        "       p = []\n",
        "       X_1 = first_magg[cols]\n",
        "       X_1 = sm.add_constant(X_1)\n",
        "       model = sm.OLS(yi, X_1).fit()\n",
        "       p = pd.Series(model.pvalues.values[1:], index=cols)\n",
        "       pmax = max(p)\n",
        "       feature_with_p_max = p.idxmax()\n",
        "       if (pmax > 0.05):\n",
        "          cols.remove(feature_with_p_max)\n",
        "       else:\n",
        "          break\n",
        "    selected_features = cols\n",
        "    print(first_mac_stage1[n],\"     Total feature\",\"(\",len(first_mac),\")\",\"Selected feature\",len(selected_features))\n",
        "    x_selected = first_magg.values[:, selected_features]\n",
        "    x_train, x_test, y_train, y_test = train_test_split(x_selected, yi, test_size=0.3)\n",
        "\n",
        "    # SVM-poly\n",
        "    svr_poly = make_pipeline(StandardScaler(), SVR(C=1.0, epsilon=0.2, kernel='poly', degree=3))\n",
        "    svr_poly = svr_poly.fit(x_train, y_train)\n",
        "    Svr_poly = abs(svr_poly.score(x_test, y_test))\n",
        "    Svr_poly = \"{:.2f}\".format(Svr_poly * 100)\n",
        "\n",
        "    # Decision tree\n",
        "    clf = tree.DecisionTreeRegressor(max_features='auto')\n",
        "    clf = clf.fit(x_train, y_train)\n",
        "    CRF = abs(clf.score(x_test, y_test))\n",
        "    CRF = \"{:.2f}\".format(CRF * 100)\n",
        "\n",
        "    # KNN\n",
        "    neigh = KNeighborsRegressor(n_neighbors=5, weights='distance', algorithm='auto', leaf_size=30, p=2,\n",
        "                                metric='minkowski', metric_params=None, n_jobs=None)\n",
        "    neigh = neigh.fit(x_train, y_train)\n",
        "    KNN = abs(neigh.score(x_test, y_test))\n",
        "    KNN = \"{:.2f}\".format(KNN * 100)\n",
        "\n",
        "    # Accuracy\n",
        "    print(\"             %Prediction accuracy,\", \"Tree \", CRF, \" SVM-Poly \", Svr_poly, \"KNN \", KNN)"
      ]
    },
    {
      "cell_type": "code",
      "execution_count": null,
      "id": "9a530559",
      "metadata": {
        "execution": {
          "iopub.execute_input": "2023-08-31T03:50:20.636661Z",
          "iopub.status.busy": "2023-08-31T03:50:20.636217Z",
          "iopub.status.idle": "2023-08-31T03:50:20.971162Z",
          "shell.execute_reply": "2023-08-31T03:50:20.970154Z",
          "shell.execute_reply.started": "2023-08-31T03:50:20.636616Z"
        },
        "papermill": {
          "duration": null,
          "end_time": null,
          "exception": null,
          "start_time": null,
          "status": "pending"
        },
        "tags": [],
        "id": "9a530559"
      },
      "outputs": [],
      "source": [
        "import matplotlib.pyplot as plt\n",
        "import seaborn as sns"
      ]
    },
    {
      "cell_type": "code",
      "execution_count": null,
      "id": "a20b0c37",
      "metadata": {
        "execution": {
          "iopub.execute_input": "2023-08-31T03:50:25.656474Z",
          "iopub.status.busy": "2023-08-31T03:50:25.655968Z",
          "iopub.status.idle": "2023-08-31T03:50:26.111670Z",
          "shell.execute_reply": "2023-08-31T03:50:26.110331Z",
          "shell.execute_reply.started": "2023-08-31T03:50:25.656431Z"
        },
        "papermill": {
          "duration": null,
          "end_time": null,
          "exception": null,
          "start_time": null,
          "status": "pending"
        },
        "tags": [],
        "id": "a20b0c37"
      },
      "outputs": [],
      "source": [
        "# 정확도에 대한 내용 차트로 그려보기\n",
        "\n",
        "measu = ['Measurement0', 'Measurement1', 'Measurement2', 'Measurement3', 'Measurement4', 'Measurement5', 'Measurement6', 'Measurement7',\n",
        "         'Measurement8', 'Measurement9', 'Measurement10', 'Measurement11', 'Measurement12', 'Measurement13', 'Measurement14' ]\n",
        "tree_acc =  [83.59, 83.00, 50.64, 37.52, 3.94, 97.64, 11.49, 96.41, 85.28, 85.62, 11.84, 91.31, 52.13, 79.19, 4.35]\n",
        "svm_acc = [5.88, 83.88, 23.04, 3.56, 8.30, 1.67, 49.47, 83.14, 14.26, 34.97, 3.64, 89.83, 55.96, 65.52, 12.56]\n",
        "knn_acc = [1.23, 78.92, 26.38, 15.59, 3.49, 15.53, 41.51, 84.43, 38.85, 47.91, 14.99, 87.25, 44.86, 51.63, 22.51]\n",
        "\n",
        "fig, ax = plt.subplots(figsize=(23,6))\n",
        "\n",
        "ax.plot(measu, tree_acc, label='decision tree')\n",
        "ax.plot(measu, svm_acc, label='SVM_poly')\n",
        "ax.plot(measu, knn_acc, label='knn')\n",
        "\n",
        "ax.set_xlabel('measu')\n",
        "ax.set_ylabel('acc')\n",
        "\n",
        "ax.legend()\n",
        "plt.title('first_acc')\n",
        "plt.show()"
      ]
    },
    {
      "cell_type": "code",
      "execution_count": null,
      "id": "584c737d",
      "metadata": {
        "execution": {
          "iopub.execute_input": "2023-08-31T03:50:29.503006Z",
          "iopub.status.busy": "2023-08-31T03:50:29.501923Z",
          "iopub.status.idle": "2023-08-31T03:50:29.509244Z",
          "shell.execute_reply": "2023-08-31T03:50:29.508395Z",
          "shell.execute_reply.started": "2023-08-31T03:50:29.502969Z"
        },
        "papermill": {
          "duration": null,
          "end_time": null,
          "exception": null,
          "start_time": null,
          "status": "pending"
        },
        "tags": [],
        "id": "584c737d"
      },
      "outputs": [],
      "source": [
        "# 정확도의 평균값 구하기\n",
        "\n",
        "avr_tree_acc = np.mean(tree_acc)\n",
        "avr_svm_acc = np.mean(svm_acc)\n",
        "avr_knn_acc = np.mean(knn_acc)\n",
        "\n",
        "print('tree 정확도의 평균 :', avr_tree_acc)\n",
        "print('svm 정확도의 평균 :', avr_svm_acc)\n",
        "print('knn 정확도의 평균 :', avr_knn_acc)\n"
      ]
    },
    {
      "cell_type": "markdown",
      "id": "734ab87f",
      "metadata": {
        "papermill": {
          "duration": null,
          "end_time": null,
          "exception": null,
          "start_time": null,
          "status": "pending"
        },
        "tags": [],
        "id": "734ab87f"
      },
      "source": [
        "1단계에 대한 정화도 예측 진행\n",
        "SVM / Decision tree / KNN 3가지 방식으로 예측 진행함\n",
        "세가지 중 정확도가 가장 높은 것은 Decision tree로 확인됨"
      ]
    },
    {
      "cell_type": "code",
      "execution_count": null,
      "id": "59b2c51a",
      "metadata": {
        "execution": {
          "iopub.execute_input": "2023-08-31T03:50:36.508936Z",
          "iopub.status.busy": "2023-08-31T03:50:36.508515Z",
          "iopub.status.idle": "2023-08-31T03:55:42.139696Z",
          "shell.execute_reply": "2023-08-31T03:55:42.138363Z",
          "shell.execute_reply.started": "2023-08-31T03:50:36.508904Z"
        },
        "papermill": {
          "duration": null,
          "end_time": null,
          "exception": null,
          "start_time": null,
          "status": "pending"
        },
        "tags": [],
        "id": "59b2c51a"
      },
      "outputs": [],
      "source": [
        "# 2단계 정확도 예측\n",
        "\n",
        "for m in range(len(second_mac_stage2)):\n",
        "    yi2 = second_mag_stage2.values[:, n]\n",
        "    cols2 = list(second_magg.columns)\n",
        "    pmax2 = 1\n",
        "    while len(cols2) > 0:\n",
        "        p2 = []\n",
        "        X_2 = second_magg[cols2]  # 독립 변수를 선택된 열로 구성\n",
        "        X_2 = sm.add_constant(X_2)\n",
        "        model = sm.OLS(yi2, X_2).fit()\n",
        "        p2 = pd.Series(model.pvalues.values[1:], index=cols2)\n",
        "        pmax2 = max(p2)\n",
        "        feature_with_p_max2 = p2.idxmax()\n",
        "        if pmax2 > 0.05:\n",
        "            cols2.remove(feature_with_p_max2)\n",
        "        else:\n",
        "            break\n",
        "    selected_features2 = cols2\n",
        "    print(second_mac_stage2[m], \"   total feature\", \"(\", len(second_mac), \")\", \"selected feature\", len(selected_features2))\n",
        "    x_selected2 = second_magg[selected_features2]  # 선택된 열로 구성된 독립 변수\n",
        "    x_train2, x_test2, y_train2, y_test2 = train_test_split(x_selected2, yi2, test_size=0.3)\n",
        "\n",
        "    # SVM_poly\n",
        "    svr_poly2 = make_pipeline(StandardScaler(), SVR(C=1.0, epsilon=0.2, kernel='poly', degree=3))\n",
        "    svr_poly2 = svr_poly2.fit(x_train2, y_train2)\n",
        "    Svr_poly2 = abs(svr_poly2.score(x_test2, y_test2))\n",
        "    Svr_poly2 = \"{:.2f}\".format(Svr_poly2 * 100)\n",
        "\n",
        "    # Decision tree\n",
        "    clf2 = tree.DecisionTreeRegressor(max_features='auto')\n",
        "    clf2 = clf2.fit(x_train2, y_train2)\n",
        "    CRF2 = abs(clf2.score(x_test2, y_test2))\n",
        "    CRF2 = \"{:.2f}\".format(CRF2 * 100)\n",
        "\n",
        "    # KNN\n",
        "    neig2 = KNeighborsRegressor( n_neighbors=5, weights='distance', algorithm='auto', leaf_size=30, p=2, metric='minkowski', metric_params=None, n_jobs=None )\n",
        "    neig2 = neig2.fit(x_train2, y_train2)\n",
        "    KNN2 = abs(neig2.score(x_test2, y_test2))\n",
        "    KNN2 = \"{:.2f}\".format(KNN2 * 100)\n",
        "\n",
        "    # 정확도\n",
        "    print(\"             %Prediction accuracy,\", \"Tree \", CRF2, \" SVM-Poly \", Svr_poly2, \"KNN \", KNN2)"
      ]
    },
    {
      "cell_type": "code",
      "execution_count": null,
      "id": "1e16d266",
      "metadata": {
        "execution": {
          "iopub.execute_input": "2023-08-31T03:57:26.445882Z",
          "iopub.status.busy": "2023-08-31T03:57:26.445454Z",
          "iopub.status.idle": "2023-08-31T03:57:26.902701Z",
          "shell.execute_reply": "2023-08-31T03:57:26.901606Z",
          "shell.execute_reply.started": "2023-08-31T03:57:26.445850Z"
        },
        "papermill": {
          "duration": null,
          "end_time": null,
          "exception": null,
          "start_time": null,
          "status": "pending"
        },
        "tags": [],
        "id": "1e16d266"
      },
      "outputs": [],
      "source": [
        "# 2단계 정확도 예측에 대해서 차트로 그려보기\n",
        "\n",
        "measu2 = ['Measurement0', 'Measurement1', 'Measurement2', 'Measurement3', 'Measurement4', 'Measurement5', 'Measurement6', 'Measurement7',\n",
        "         'Measurement8', 'Measurement9', 'Measurement10', 'Measurement11', 'Measurement12', 'Measurement13', 'Measurement14' ]\n",
        "tree_acc2 =  [31.38, 31.86, 34.14, 34.45, 33.85, 34.18, 43.17, 26.17, 34.02, 27.47, 30.48, 43.20, 30.52, 34.55,30.87 ]\n",
        "svm_acc2 = [53.31, 53.55, 54.31, 57.26, 52.68, 57.79, 13.43, 51.02, 54.87, 53.94, 53.05, 51.83, 56.44, 50.97, 56.06]\n",
        "knn_acc2 = [57.80, 55.57, 54.99, 56.82, 55.32, 54.95, 61.30, 48.65, 58.47, 55.80, 56.95, 58.10, 57.73, 55.07, 54.20]\n",
        "\n",
        "fig, ax = plt.subplots(figsize=(23,6))\n",
        "\n",
        "ax.plot(measu2, tree_acc2, label='decision tree')\n",
        "ax.plot(measu2, svm_acc2, label='SVM_poly')\n",
        "ax.plot(measu2, knn_acc2, label='knn')\n",
        "\n",
        "ax.set_xlabel('measu')\n",
        "ax.set_ylabel('acc')\n",
        "\n",
        "ax.legend()\n",
        "plt.title('second_acc')\n",
        "plt.show()"
      ]
    },
    {
      "cell_type": "code",
      "execution_count": null,
      "id": "9f72d587",
      "metadata": {
        "execution": {
          "iopub.execute_input": "2023-08-31T03:57:34.529989Z",
          "iopub.status.busy": "2023-08-31T03:57:34.529232Z",
          "iopub.status.idle": "2023-08-31T03:57:34.537699Z",
          "shell.execute_reply": "2023-08-31T03:57:34.536475Z",
          "shell.execute_reply.started": "2023-08-31T03:57:34.529950Z"
        },
        "papermill": {
          "duration": null,
          "end_time": null,
          "exception": null,
          "start_time": null,
          "status": "pending"
        },
        "tags": [],
        "id": "9f72d587"
      },
      "outputs": [],
      "source": [
        "# 정확도의 평균값 구하기\n",
        "\n",
        "avr_tree_acc2 = np.mean(tree_acc2)\n",
        "avr_svm_acc2 = np.mean(svm_acc2)\n",
        "avr_knn_acc2 = np.mean(knn_acc2)\n",
        "\n",
        "print('tree 정확도의 평균 :', avr_tree_acc2)\n",
        "print('svm 정확도의 평균 :', avr_svm_acc2)\n",
        "print('knn 정확도의 평균 :', avr_knn_acc2)\n"
      ]
    },
    {
      "cell_type": "markdown",
      "id": "9f418532",
      "metadata": {
        "papermill": {
          "duration": null,
          "end_time": null,
          "exception": null,
          "start_time": null,
          "status": "pending"
        },
        "tags": [],
        "id": "9f418532"
      },
      "source": [
        "2단계 정확도 예측\n",
        "1단계와 동일하게 SVM / Decision tree / KNN  \n",
        "KNN의 정확도가 가장 높은 예측된 것으로 확인"
      ]
    },
    {
      "cell_type": "code",
      "execution_count": null,
      "id": "ee18ac2e",
      "metadata": {
        "execution": {
          "iopub.execute_input": "2023-08-31T03:57:41.484790Z",
          "iopub.status.busy": "2023-08-31T03:57:41.484372Z",
          "iopub.status.idle": "2023-08-31T03:59:33.746742Z",
          "shell.execute_reply": "2023-08-31T03:59:33.745729Z",
          "shell.execute_reply.started": "2023-08-31T03:57:41.484758Z"
        },
        "papermill": {
          "duration": null,
          "end_time": null,
          "exception": null,
          "start_time": null,
          "status": "pending"
        },
        "tags": [],
        "id": "ee18ac2e"
      },
      "outputs": [],
      "source": [
        "# 1단계  출력 + 기계 4,5 => 2단계 출력 확인\n",
        "\n",
        "for r in range(len(second_mac_stage2)):\n",
        "    yi3 = third_mag_stage3.values[:, n]\n",
        "    cols3 = list(third_magg.columns)\n",
        "    pmax3 = 1\n",
        "    while len(cols3) > 0:\n",
        "        p3 = []\n",
        "        X_3 = third_magg[cols3]  # 독립 변수를 선택된 열로 구성\n",
        "        X_3 = sm.add_constant(X_3)\n",
        "        model = sm.OLS(yi3, X_3).fit()\n",
        "        p3 = pd.Series(model.pvalues.values[1:], index=cols3)\n",
        "        pmax3 = max(p3)\n",
        "        feature_with_p_max3 = p3.idxmax()\n",
        "        if pmax3 > 0.05:\n",
        "            cols3.remove(feature_with_p_max3)\n",
        "        else:\n",
        "            break\n",
        "    selected_features3 = cols3\n",
        "    print(second_mac_stage2[r], \"   total feature\", \"(\", len(third_mac), \")\", \"selected feature\", len(selected_features3))\n",
        "    x_selected3 = third_magg[selected_features3]  # 선택된 열로 구성된 독립 변수\n",
        "    x_train3, x_test3, y_train3, y_test3 = train_test_split(x_selected3, yi3, test_size=0.3)\n",
        "\n",
        "    # SVM_poly\n",
        "    svr_poly3 = make_pipeline(StandardScaler(), SVR(C=1.0, epsilon=0.2, kernel='poly', degree=3))\n",
        "    svr_poly3 = svr_poly3.fit(x_train3, y_train3)\n",
        "    Svr_poly3 = abs(svr_poly3.score(x_test3, y_test3))\n",
        "    Svr_poly3 = \"{:.2f}\".format(Svr_poly3 * 100)\n",
        "\n",
        "    # Decision tree\n",
        "    clf3 = tree.DecisionTreeRegressor(max_features='auto')\n",
        "    clf3 = clf3.fit(x_train3, y_train3)\n",
        "    CRF3 = abs(clf3.score(x_test3, y_test3))\n",
        "    CRF3 = \"{:.2f}\".format(CRF3 * 100)\n",
        "\n",
        "    # KNN\n",
        "    neig3 = KNeighborsRegressor( n_neighbors=5, weights='distance', algorithm='auto', leaf_size=30, p=2, metric='minkowski', metric_params=None, n_jobs=None )\n",
        "    neig3 = neig3.fit(x_train3, y_train3)\n",
        "    KNN3 = abs(neig3.score(x_test3, y_test3))\n",
        "    KNN3 = \"{:.2f}\".format(KNN3 * 100)\n",
        "\n",
        "    # 정확도\n",
        "    print(\"             %Prediction accuracy,\", \"Tree \", CRF3, \" SVM-Poly \", Svr_poly3, \"KNN \", KNN3)"
      ]
    },
    {
      "cell_type": "code",
      "execution_count": null,
      "id": "4d9aeebc",
      "metadata": {
        "execution": {
          "iopub.execute_input": "2023-08-31T04:22:23.879611Z",
          "iopub.status.busy": "2023-08-31T04:22:23.879115Z",
          "iopub.status.idle": "2023-08-31T04:22:24.358522Z",
          "shell.execute_reply": "2023-08-31T04:22:24.357330Z",
          "shell.execute_reply.started": "2023-08-31T04:22:23.879561Z"
        },
        "papermill": {
          "duration": null,
          "end_time": null,
          "exception": null,
          "start_time": null,
          "status": "pending"
        },
        "tags": [],
        "id": "4d9aeebc"
      },
      "outputs": [],
      "source": [
        "# 1단계 출력 + 기계 4,5 => 2단계 출력에 미치는 영향 정확도 예측 차트 표현\n",
        "\n",
        "measu3 = ['Measurement0', 'Measurement1', 'Measurement2', 'Measurement3', 'Measurement4', 'Measurement5', 'Measurement6', 'Measurement7',\n",
        "         'Measurement8', 'Measurement9', 'Measurement10', 'Measurement11', 'Measurement12', 'Measurement13', 'Measurement14' ]\n",
        "tree_acc3 =  [44.99, 35.74, 37.45, 37.86, 49.96, 41.81, 43.91, 36.62, 34.08, 42.17, 32.32, 32.87, 37.82, 38.01, 37.16]\n",
        "svm_acc3= [16.82, 76.77, 62.70, 88.84, 52.59, 62.70, 80.31, 60.00, 27.19, 39.55, 53.87, 49.54, 11.07, 58.61, 54.15]\n",
        "knn_acc3 = [62.50, 62.16, 63.81, 65.60, 64.66, 62.31, 59.74, 61.28, 60.79, 59.07, 59.83, 53.21, 60.42, 63.20, 60.51]\n",
        "\n",
        "fig, ax = plt.subplots(figsize=(23,6))\n",
        "\n",
        "ax.plot(measu3, tree_acc3, label='decision tree')\n",
        "ax.plot(measu3, svm_acc3, label='SVM_poly')\n",
        "ax.plot(measu3, knn_acc3, label='knn')\n",
        "\n",
        "ax.set_xlabel('measu')\n",
        "ax.set_ylabel('acc')\n",
        "\n",
        "ax.legend()\n",
        "plt.title('third_acc')\n",
        "plt.show()"
      ]
    },
    {
      "cell_type": "code",
      "execution_count": null,
      "id": "5e6bb821",
      "metadata": {
        "execution": {
          "iopub.execute_input": "2023-08-31T04:22:27.347161Z",
          "iopub.status.busy": "2023-08-31T04:22:27.346715Z",
          "iopub.status.idle": "2023-08-31T04:22:27.355112Z",
          "shell.execute_reply": "2023-08-31T04:22:27.353784Z",
          "shell.execute_reply.started": "2023-08-31T04:22:27.347119Z"
        },
        "papermill": {
          "duration": null,
          "end_time": null,
          "exception": null,
          "start_time": null,
          "status": "pending"
        },
        "tags": [],
        "id": "5e6bb821"
      },
      "outputs": [],
      "source": [
        "# 정확도의 평균값 구하기\n",
        "\n",
        "avr_tree_acc3 = np.mean(tree_acc3)\n",
        "avr_svm_acc3 = np.mean(svm_acc3)\n",
        "avr_knn_acc3 = np.mean(knn_acc3)\n",
        "\n",
        "print('tree 정확도의 평균 :', avr_tree_acc3)\n",
        "print('svm 정확도의 평균 :', avr_svm_acc3)\n",
        "print('knn 정확도의 평균 :', avr_knn_acc3)\n"
      ]
    },
    {
      "cell_type": "markdown",
      "id": "3b8d00a2",
      "metadata": {
        "papermill": {
          "duration": null,
          "end_time": null,
          "exception": null,
          "start_time": null,
          "status": "pending"
        },
        "tags": [],
        "id": "3b8d00a2"
      },
      "source": [
        "1단계  출력 + 기계 4,5 => 2단계 출력 확인\n",
        "SVM / Decision tree / KNN  \n",
        "해당 단계에서는 KNN의 정확도가 가장 높게 나타는 것으로 확인할 수 있음\n",
        "\n",
        "* 결론\n",
        " - first / second / third 중 second의 정확도가 평균적으로 가장 낮은 것으로 확인됨\n",
        " - 따라서 첫번째 단계의 출력이 두번째 단계의 출력에 영향을 미친다는 것을 예측할 수 있음 ( third의 정확도 중 KNN의 정확도가 가장 높은 것을 알 수 있음)\n",
        " - 전체적인 df에 결측치는 없지만 0의 값을 갖는 출력치들이 있음\n",
        " - 해당 부분에 대해서 0의 값을 갖는 컬럼을 삭제 후, 측정을 했을 때 정확도들이 더 높게 측정되긴 했지만 15개의 출력을 모두 필요할 것이라고 생각되어 삭제하지 않고 그대로 포함시켜 진행했음\n",
        " - 하지만, 0의 값들에 대해서 각 컬럼의 최소값, 최대값, 평균값 등으로 대체해서도 정확도에 대한 정보를 확인해 유의미한 결과를 얻어낼 수 있을 것이라고 생각함\n",
        "\n",
        "=> 해당 결과물에는 0의 값을 삭제하지 않고 값을 유지한 상태에서 진행한 내용임\n"
      ]
    },
    {
      "cell_type": "markdown",
      "id": "98d1721f",
      "metadata": {
        "papermill": {
          "duration": null,
          "end_time": null,
          "exception": null,
          "start_time": null,
          "status": "pending"
        },
        "tags": [],
        "id": "98d1721f"
      },
      "source": [
        "------------------------------------------------------------------------------------------------------------------------------------------------------------------------------"
      ]
    },
    {
      "cell_type": "markdown",
      "id": "68fb73ad",
      "metadata": {
        "papermill": {
          "duration": null,
          "end_time": null,
          "exception": null,
          "start_time": null,
          "status": "pending"
        },
        "tags": [],
        "id": "68fb73ad"
      },
      "source": [
        "# 출력값 중 0의 비율이 높은 컬럼 삭제한 버전"
      ]
    },
    {
      "cell_type": "code",
      "execution_count": null,
      "id": "63ec4698",
      "metadata": {
        "papermill": {
          "duration": null,
          "end_time": null,
          "exception": null,
          "start_time": null,
          "status": "pending"
        },
        "tags": [],
        "id": "63ec4698"
      },
      "outputs": [],
      "source": [
        "# # new_df에서 측정값이 0의 비율이 30% 이상 되는 인덱스에 대해서는 제외해주고 진행\n",
        "\n",
        "# for i in range(len(new_df.columns[: ])):\n",
        "#     clean = new_df.values[:, i]\n",
        "#     cleann = (((np.count_nonzero(clean == 0))/14088)*100)\n",
        "#     if (cleann>30):\n",
        "#         DROP = (new_df.columns[i])\n",
        "#         print (\"    Column Number \",i,\" Name \",DROP, \" Value =\",\"{:.2f}\".format(cleann ))"
      ]
    },
    {
      "cell_type": "code",
      "execution_count": null,
      "id": "fef97c1b",
      "metadata": {
        "papermill": {
          "duration": null,
          "end_time": null,
          "exception": null,
          "start_time": null,
          "status": "pending"
        },
        "tags": [],
        "id": "fef97c1b"
      },
      "outputs": [],
      "source": [
        "# Drop_list = [42, 46, 47, 48, 52, 55, 74]\n",
        "# Drop_list_name = list(new_df.columns[Drop_list])\n",
        "# new2_df = new_df.drop(columns=Drop_list_name, axis=1)\n",
        "# print(new2_df.info())"
      ]
    },
    {
      "cell_type": "code",
      "execution_count": null,
      "id": "3310f840",
      "metadata": {
        "execution": {
          "iopub.execute_input": "2023-08-31T02:51:53.732144Z",
          "iopub.status.busy": "2023-08-31T02:51:53.731798Z",
          "iopub.status.idle": "2023-08-31T02:51:53.754024Z",
          "shell.execute_reply": "2023-08-31T02:51:53.752809Z",
          "shell.execute_reply.started": "2023-08-31T02:51:53.732115Z"
        },
        "papermill": {
          "duration": null,
          "end_time": null,
          "exception": null,
          "start_time": null,
          "status": "pending"
        },
        "tags": [],
        "id": "3310f840"
      },
      "outputs": [],
      "source": [
        "# # new_df에서 1단계 기계 출력 전 / 기계 출력 / 2단계 기계 출력 전 / 기계 출력으로 분리하기\n",
        "# # 인덱스 0,1은 주변환경에 대한 열로 1단계, 2단계 공통적으로 적용되어야 함\n",
        "# # 1단계 결합기 전\n",
        "\n",
        "# first_ma = new2_df.values[:, 0:41] # 값만\n",
        "# first_mac = new2_df.columns[0:41] # 열 이름만\n",
        "# first_mag = pd.DataFrame(data=first_ma, columns=first_mac)\n",
        "# first_magg = pd.DataFrame(data=first_ma)\n",
        "\n",
        "# # 1단계 기계 출력\n",
        "# first_ma_stage1 = new2_df.values[:, 41:50]\n",
        "# first_mac_stage1 = new2_df.columns[41:50]\n",
        "# first_mag_stage1 = pd.DataFrame(data=first_ma_stage1, columns=first_mac_stage1)\n",
        "\n",
        "# print(first_mag.info())\n",
        "# print(first_mag_stage1.info())"
      ]
    },
    {
      "cell_type": "code",
      "execution_count": null,
      "id": "b585fee2",
      "metadata": {
        "execution": {
          "iopub.execute_input": "2023-08-31T02:52:03.087663Z",
          "iopub.status.busy": "2023-08-31T02:52:03.087269Z",
          "iopub.status.idle": "2023-08-31T02:52:03.101256Z",
          "shell.execute_reply": "2023-08-31T02:52:03.100119Z",
          "shell.execute_reply.started": "2023-08-31T02:52:03.087630Z"
        },
        "papermill": {
          "duration": null,
          "end_time": null,
          "exception": null,
          "start_time": null,
          "status": "pending"
        },
        "tags": [],
        "id": "b585fee2"
      },
      "outputs": [],
      "source": [
        "# print(new2_df.info())"
      ]
    },
    {
      "cell_type": "code",
      "execution_count": null,
      "id": "a6795ec9",
      "metadata": {
        "execution": {
          "iopub.execute_input": "2023-08-31T02:51:59.790069Z",
          "iopub.status.busy": "2023-08-31T02:51:59.789681Z",
          "iopub.status.idle": "2023-08-31T02:51:59.810571Z",
          "shell.execute_reply": "2023-08-31T02:51:59.809305Z",
          "shell.execute_reply.started": "2023-08-31T02:51:59.790036Z"
        },
        "papermill": {
          "duration": null,
          "end_time": null,
          "exception": null,
          "start_time": null,
          "status": "pending"
        },
        "tags": [],
        "id": "a6795ec9"
      },
      "outputs": [],
      "source": [
        "# # 2단계도 1단게와 동일한 방식으로 진행하나 인덱스에 대해서 리스트로 만들어서 넣어주기\n",
        "# se = [0, 1, 50, 51, 52, 53, 54, 55, 56, 57, 58, 59, 60, 61, 62, 63] # 주변 환경에 대한 정보 + 기계 4,5\n",
        "\n",
        "# second_ma = new2_df.values[:, se] # 값만\n",
        "# second_mac = new2_df.columns[se] # 열 이름만\n",
        "# second_mag = pd.DataFrame(data=second_ma, columns=second_mac)\n",
        "# second_magg = pd.DataFrame(data=second_ma)\n",
        "\n",
        "# # 2단계 기계 출력\n",
        "# second_ma_stage2 = new2_df.values[:, 64:]\n",
        "# second_mac_stage2 = new2_df.columns[64:]\n",
        "# second_mag_stage2 = pd.DataFrame(data=second_ma_stage2, columns=second_mac_stage2)\n",
        "\n",
        "# print(second_mag.info())\n",
        "# print(second_mag_stage2.info())"
      ]
    },
    {
      "cell_type": "code",
      "execution_count": null,
      "id": "6922b7ca",
      "metadata": {
        "execution": {
          "iopub.execute_input": "2023-08-31T02:52:10.529135Z",
          "iopub.status.busy": "2023-08-31T02:52:10.528733Z",
          "iopub.status.idle": "2023-08-31T02:52:10.549210Z",
          "shell.execute_reply": "2023-08-31T02:52:10.548555Z",
          "shell.execute_reply.started": "2023-08-31T02:52:10.529103Z"
        },
        "papermill": {
          "duration": null,
          "end_time": null,
          "exception": null,
          "start_time": null,
          "status": "pending"
        },
        "tags": [],
        "id": "6922b7ca"
      },
      "outputs": [],
      "source": [
        "# # 1단계 출력이 2단계 출력에 미치는 영향을 확인하기 위함\n",
        "# th = [0, 1, 41, 42, 43, 44, 45, 46, 47, 48, 49, 50, 51, 52, 53, 54, 55, 56, 57, 58, 59, 60, 61, 62, 63]\n",
        "# third_ma = new2_df.values[:, th]\n",
        "# third_mac = new2_df.columns[th]\n",
        "# third_mag = pd.DataFrame(data=third_ma, columns = third_mac)\n",
        "# third_magg = pd.DataFrame(data=third_ma)\n",
        "# third_mag_stage3 = second_mag_stage2\n",
        "\n",
        "# print(third_mag.info())\n",
        "# print(third_mag_stage3.info())"
      ]
    },
    {
      "cell_type": "code",
      "execution_count": null,
      "id": "e626079c",
      "metadata": {
        "execution": {
          "iopub.execute_input": "2023-08-31T02:52:24.192572Z",
          "iopub.status.busy": "2023-08-31T02:52:24.192228Z",
          "iopub.status.idle": "2023-08-31T02:52:43.005284Z",
          "shell.execute_reply": "2023-08-31T02:52:43.004299Z",
          "shell.execute_reply.started": "2023-08-31T02:52:24.192545Z"
        },
        "papermill": {
          "duration": null,
          "end_time": null,
          "exception": null,
          "start_time": null,
          "status": "pending"
        },
        "tags": [],
        "id": "e626079c"
      },
      "outputs": [],
      "source": [
        "# # 1단계 정확도 예측\n",
        "\n",
        "# for n in range (len(first_mac_stage1)):\n",
        "#     yi = first_mag_stage1.values[:, n]\n",
        "#     cols = list(first_magg.columns)\n",
        "#     pmax = 1\n",
        "#     while len(cols) > 0:\n",
        "#        p = []\n",
        "#        X_1 = first_magg[cols]\n",
        "#        X_1 = sm.add_constant(X_1)\n",
        "#        model = sm.OLS(yi, X_1).fit()\n",
        "#        p = pd.Series(model.pvalues.values[1:], index=cols)\n",
        "#        pmax = max(p)\n",
        "#        feature_with_p_max = p.idxmax()\n",
        "#        if (pmax > 0.05):\n",
        "#           cols.remove(feature_with_p_max)\n",
        "#        else:\n",
        "#           break\n",
        "#     selected_features = cols\n",
        "#     print(first_mac_stage1[n],\"     Total feature\",\"(\",len(first_mac),\")\",\"Selected feature\",len(selected_features))\n",
        "#     x_selected = first_magg.values[:, selected_features]\n",
        "#     x_train, x_test, y_train, y_test = train_test_split(x_selected, yi, test_size=0.3)\n",
        "\n",
        "#     # SVM-poly\n",
        "#     svr_poly = make_pipeline(StandardScaler(), SVR(C=1.0, epsilon=0.2, kernel='poly', degree=3))\n",
        "#     svr_poly = svr_poly.fit(x_train, y_train)\n",
        "#     Svr_poly = abs(svr_poly.score(x_test, y_test))\n",
        "#     Svr_poly = \"{:.2f}\".format(Svr_poly * 100)\n",
        "\n",
        "#     # Decision tree\n",
        "#     clf = tree.DecisionTreeRegressor(max_features='auto')\n",
        "#     clf = clf.fit(x_train, y_train)\n",
        "#     CRF = abs(clf.score(x_test, y_test))\n",
        "#     CRF = \"{:.2f}\".format(CRF * 100)\n",
        "\n",
        "#     # KNN\n",
        "#     neigh = KNeighborsRegressor(n_neighbors=5, weights='distance', algorithm='auto', leaf_size=30, p=2,\n",
        "#                                 metric='minkowski', metric_params=None, n_jobs=None)\n",
        "#     neigh = neigh.fit(x_train, y_train)\n",
        "#     KNN = abs(neigh.score(x_test, y_test))\n",
        "#     KNN = \"{:.2f}\".format(KNN * 100)\n",
        "\n",
        "#     # Accuracy\n",
        "#     print(\"             %Prediction accuracy,\", \"Tree \", CRF, \" SVM-Poly \", Svr_poly, \"KNN \", KNN)"
      ]
    },
    {
      "cell_type": "code",
      "execution_count": null,
      "id": "41dee3bc",
      "metadata": {
        "papermill": {
          "duration": null,
          "end_time": null,
          "exception": null,
          "start_time": null,
          "status": "pending"
        },
        "tags": [],
        "id": "41dee3bc"
      },
      "outputs": [],
      "source": [
        "# measu = ['Measurement0', 'Measurement2', 'Measurement3', 'Measurement4',\n",
        "#          'Measurement8', 'Measurement9', 'Measurement10', 'Measurement12', 'Measurement13']\n",
        "# tree_acc =  [73.24, 37.03, 30.99, 29.77, 83.84, 82.52, 14.23, 54.75, 77.69]\n",
        "# svm_acc = [6.66, 10.32, 4.18, 10.72, 18.21, 35.69, 3.31, 57.17, 61.79]\n",
        "# knn_acc = [8.02, 25.30, 25.48, 0.17, 34.14, 44.49, 26.20, 47.59, 48.76]\n",
        "\n",
        "# fig, ax = plt.subplots(figsize=(23,6))\n",
        "\n",
        "# ax.plot(measu, tree_acc, label='decision tree')\n",
        "# ax.plot(measu, svm_acc, label='SVM_poly')\n",
        "# ax.plot(measu, knn_acc, label='knn')\n",
        "\n",
        "# ax.set_xlabel('measu')\n",
        "# ax.set_ylabel('acc')\n",
        "\n",
        "# ax.legend()\n",
        "# plt.title('first_acc')\n",
        "# plt.show()"
      ]
    },
    {
      "cell_type": "code",
      "execution_count": null,
      "id": "9f60117f",
      "metadata": {
        "papermill": {
          "duration": null,
          "end_time": null,
          "exception": null,
          "start_time": null,
          "status": "pending"
        },
        "tags": [],
        "id": "9f60117f"
      },
      "outputs": [],
      "source": [
        "# # 정확도의 평균값 구하기\n",
        "\n",
        "# avr_tree_acc = np.mean(tree_acc)\n",
        "# avr_svm_acc = np.mean(svm_acc)\n",
        "# avr_knn_acc = np.mean(knn_acc)\n",
        "\n",
        "# print('tree 정확도의 평균 :', avr_tree_acc)\n",
        "# print('svm 정확도의 평균 :', avr_svm_acc)\n",
        "# print('knn 정확도의 평균 :', avr_knn_acc)"
      ]
    },
    {
      "cell_type": "code",
      "execution_count": null,
      "id": "4a03fb9e",
      "metadata": {
        "execution": {
          "iopub.execute_input": "2023-08-31T02:55:58.232253Z",
          "iopub.status.busy": "2023-08-31T02:55:58.231852Z",
          "iopub.status.idle": "2023-08-31T02:58:12.768420Z",
          "shell.execute_reply": "2023-08-31T02:58:12.767453Z",
          "shell.execute_reply.started": "2023-08-31T02:55:58.232214Z"
        },
        "papermill": {
          "duration": null,
          "end_time": null,
          "exception": null,
          "start_time": null,
          "status": "pending"
        },
        "tags": [],
        "id": "4a03fb9e"
      },
      "outputs": [],
      "source": [
        "# # 2단계  열삭제0\n",
        "\n",
        "# for m in range(len(second_mac_stage2)):\n",
        "#     yi2 = second_mag_stage2.values[:, n]\n",
        "#     cols2 = list(second_magg.columns)\n",
        "#     pmax2 = 1\n",
        "#     while len(cols2) > 0:\n",
        "#         p2 = []\n",
        "#         X_2 = second_magg[cols2]  # 독립 변수를 선택된 열로 구성\n",
        "#         X_2 = sm.add_constant(X_2)\n",
        "#         model = sm.OLS(yi2, X_2).fit()\n",
        "#         p2 = pd.Series(model.pvalues.values[1:], index=cols2)\n",
        "#         pmax2 = max(p2)\n",
        "#         feature_with_p_max2 = p2.idxmax()\n",
        "#         if pmax2 > 0.05:\n",
        "#             cols2.remove(feature_with_p_max2)\n",
        "#         else:\n",
        "#             break\n",
        "#     selected_features2 = cols2\n",
        "#     print(second_mac_stage2[m], \"   total feature\", \"(\", len(second_mac), \")\", \"selected feature\", len(selected_features2))\n",
        "#     x_selected2 = second_magg[selected_features2]  # 선택된 열로 구성된 독립 변수\n",
        "#     x_train2, x_test2, y_train2, y_test2 = train_test_split(x_selected2, yi2, test_size=0.3)\n",
        "\n",
        "#     # SVM_poly\n",
        "#     svr_poly2 = make_pipeline(StandardScaler(), SVR(C=1.0, epsilon=0.2, kernel='poly', degree=3))\n",
        "#     svr_poly2 = svr_poly2.fit(x_train2, y_train2)\n",
        "#     Svr_poly2 = abs(svr_poly2.score(x_test2, y_test2))\n",
        "#     Svr_poly2 = \"{:.2f}\".format(Svr_poly2 * 100)\n",
        "\n",
        "#     # Decision tree\n",
        "#     clf2 = tree.DecisionTreeRegressor(max_features='auto')\n",
        "#     clf2 = clf2.fit(x_train2, y_train2)\n",
        "#     CRF2 = abs(clf2.score(x_test2, y_test2))\n",
        "#     CRF2 = \"{:.2f}\".format(CRF2 * 100)\n",
        "\n",
        "#     # KNN\n",
        "#     neig2 = KNeighborsRegressor( n_neighbors=5, weights='distance', algorithm='auto', leaf_size=30, p=2, metric='minkowski', metric_params=None, n_jobs=None )\n",
        "#     neig2 = neig2.fit(x_train2, y_train2)\n",
        "#     KNN2 = abs(neig2.score(x_test2, y_test2))\n",
        "#     KNN2 = \"{:.2f}\".format(KNN2 * 100)\n",
        "\n",
        "#     # 정확도\n",
        "#     print(\"             %Prediction accuracy,\", \"Tree \", CRF2, \" SVM-Poly \", Svr_poly2, \"KNN \", KNN2)"
      ]
    },
    {
      "cell_type": "code",
      "execution_count": null,
      "id": "4198ec73",
      "metadata": {
        "execution": {
          "iopub.execute_input": "2023-08-31T02:59:47.606518Z",
          "iopub.status.busy": "2023-08-31T02:59:47.606160Z",
          "iopub.status.idle": "2023-08-31T02:59:47.903023Z",
          "shell.execute_reply": "2023-08-31T02:59:47.902096Z",
          "shell.execute_reply.started": "2023-08-31T02:59:47.606491Z"
        },
        "papermill": {
          "duration": null,
          "end_time": null,
          "exception": null,
          "start_time": null,
          "status": "pending"
        },
        "tags": [],
        "id": "4198ec73"
      },
      "outputs": [],
      "source": [
        "# measu2 = ['Measurement0', 'Measurement1', 'Measurement2', 'Measurement3', 'Measurement5', 'Measurement6', 'Measurement7',\n",
        "#          'Measurement8', 'Measurement9', 'Measurement10', 'Measurement11', 'Measurement12', 'Measurement13', 'Measurement14' ]\n",
        "# tree_acc2 =  [81.48, 80.10, 80.26, 80.25, 80.30, 80.00, 79.15, 81.64, 81.15, 81.68, 79.69, 79.65, 81.59, 80.21]\n",
        "# svm_acc2 = [55.01, 41.62, 54.26, 50.79, 54.04, 54.39, 52.84, 54.36, 54.49, 51.00, 52.61, 53.92, 55.03, 52.35]\n",
        "# knn_acc2 = [77.90, 76.19, 78.51, 78.63, 79.42, 78.21, 77.19, 79.85, 77.25, 77.52, 77.82, 77.32, 78.52, 79.50]\n",
        "\n",
        "# fig, ax = plt.subplots(figsize=(23,6))\n",
        "\n",
        "# ax.plot(measu2, tree_acc2, label='decision tree')\n",
        "# ax.plot(measu2, svm_acc2, label='SVM_poly')\n",
        "# ax.plot(measu2, knn_acc2, label='knn')\n",
        "\n",
        "# ax.set_xlabel('measu')\n",
        "# ax.set_ylabel('acc')\n",
        "\n",
        "# ax.legend()\n",
        "# plt.title('second_acc')\n",
        "# plt.show()"
      ]
    },
    {
      "cell_type": "code",
      "execution_count": null,
      "id": "63872b08",
      "metadata": {
        "execution": {
          "iopub.execute_input": "2023-08-31T03:01:50.327786Z",
          "iopub.status.busy": "2023-08-31T03:01:50.327143Z",
          "iopub.status.idle": "2023-08-31T03:01:50.332470Z",
          "shell.execute_reply": "2023-08-31T03:01:50.331795Z",
          "shell.execute_reply.started": "2023-08-31T03:01:50.327761Z"
        },
        "papermill": {
          "duration": null,
          "end_time": null,
          "exception": null,
          "start_time": null,
          "status": "pending"
        },
        "tags": [],
        "id": "63872b08"
      },
      "outputs": [],
      "source": [
        "# # 정확도의 평균값 구하기\n",
        "\n",
        "# avr_tree_acc2 = np.mean(tree_acc2)\n",
        "# avr_svm_acc2 = np.mean(svm_acc2)\n",
        "# avr_knn_acc2 = np.mean(knn_acc2)\n",
        "\n",
        "# print('tree 정확도의 평균 :', avr_tree_acc2)\n",
        "# print('svm 정확도의 평균 :', avr_svm_acc2)\n",
        "# print('knn 정확도의 평균 :', avr_knn_acc2)\n"
      ]
    },
    {
      "cell_type": "code",
      "execution_count": null,
      "id": "00dde9e1",
      "metadata": {
        "execution": {
          "iopub.execute_input": "2023-08-31T03:00:32.117473Z",
          "iopub.status.busy": "2023-08-31T03:00:32.117136Z",
          "iopub.status.idle": "2023-08-31T03:01:50.325971Z",
          "shell.execute_reply": "2023-08-31T03:01:50.325271Z",
          "shell.execute_reply.started": "2023-08-31T03:00:32.117447Z"
        },
        "papermill": {
          "duration": null,
          "end_time": null,
          "exception": null,
          "start_time": null,
          "status": "pending"
        },
        "tags": [],
        "id": "00dde9e1"
      },
      "outputs": [],
      "source": [
        "# # 1단계  출력 + 기계 4,5 => 2단계 출력 확인  열삭제 버전\n",
        "\n",
        "# for r in range(len(second_mac_stage2)):\n",
        "#     yi3 = third_mag_stage3.values[:, n]\n",
        "#     cols3 = list(third_magg.columns)\n",
        "#     pmax3 = 1\n",
        "#     while len(cols3) > 0:\n",
        "#         p3 = []\n",
        "#         X_3 = third_magg[cols3]  # 독립 변수를 선택된 열로 구성\n",
        "#         X_3 = sm.add_constant(X_3)\n",
        "#         model = sm.OLS(yi3, X_3).fit()\n",
        "#         p3 = pd.Series(model.pvalues.values[1:], index=cols3)\n",
        "#         pmax3 = max(p3)\n",
        "#         feature_with_p_max3 = p3.idxmax()\n",
        "#         if pmax3 > 0.05:\n",
        "#             cols3.remove(feature_with_p_max3)\n",
        "#         else:\n",
        "#             break\n",
        "#     selected_features3 = cols3\n",
        "#     print(second_mac_stage2[r], \"   total feature\", \"(\", len(third_mac), \")\", \"selected feature\", len(selected_features3))\n",
        "#     x_selected3 = third_magg[selected_features3]  # 선택된 열로 구성된 독립 변수\n",
        "#     x_train3, x_test3, y_train3, y_test3 = train_test_split(x_selected3, yi3, test_size=0.3)\n",
        "\n",
        "#     # SVM_poly\n",
        "#     svr_poly3 = make_pipeline(StandardScaler(), SVR(C=1.0, epsilon=0.2, kernel='poly', degree=3))\n",
        "#     svr_poly3 = svr_poly3.fit(x_train3, y_train3)\n",
        "#     Svr_poly3 = abs(svr_poly3.score(x_test3, y_test3))\n",
        "#     Svr_poly3 = \"{:.2f}\".format(Svr_poly3 * 100)\n",
        "\n",
        "#     # Decision tree\n",
        "#     clf3 = tree.DecisionTreeRegressor(max_features='auto')\n",
        "#     clf3 = clf3.fit(x_train3, y_train3)\n",
        "#     CRF3 = abs(clf3.score(x_test3, y_test3))\n",
        "#     CRF3 = \"{:.2f}\".format(CRF3 * 100)\n",
        "\n",
        "#     # KNN\n",
        "#     neig3 = KNeighborsRegressor( n_neighbors=5, weights='distance', algorithm='auto', leaf_size=30, p=2, metric='minkowski', metric_params=None, n_jobs=None )\n",
        "#     neig3 = neig3.fit(x_train3, y_train3)\n",
        "#     KNN3 = abs(neig3.score(x_test3, y_test3))\n",
        "#     KNN3 = \"{:.2f}\".format(KNN3 * 100)\n",
        "\n",
        "#     # 정확도\n",
        "#     print(\"             %Prediction accuracy,\", \"Tree \", CRF3, \" SVM-Poly \", Svr_poly3, \"KNN \", KNN3)"
      ]
    },
    {
      "cell_type": "code",
      "execution_count": null,
      "id": "d4062a54",
      "metadata": {
        "execution": {
          "iopub.execute_input": "2023-08-31T03:20:22.717596Z",
          "iopub.status.busy": "2023-08-31T03:20:22.717211Z",
          "iopub.status.idle": "2023-08-31T03:20:23.015187Z",
          "shell.execute_reply": "2023-08-31T03:20:23.013835Z",
          "shell.execute_reply.started": "2023-08-31T03:20:22.717560Z"
        },
        "papermill": {
          "duration": null,
          "end_time": null,
          "exception": null,
          "start_time": null,
          "status": "pending"
        },
        "tags": [],
        "id": "d4062a54"
      },
      "outputs": [],
      "source": [
        "# measu3 = ['Measurement0', 'Measurement1', 'Measurement2', 'Measurement3', 'Measurement5', 'Measurement6', 'Measurement7',\n",
        "#          'Measurement8', 'Measurement9', 'Measurement10', 'Measurement11', 'Measurement12', 'Measurement13', 'Measurement14' ]\n",
        "# tree_acc3 =  [78.91, 78.31, 79.78, 77.21, 78.15, 76.94, 77.85, 78.30, 80.06, 77.93, 77.46, 78.07, 79.04, 80.09]\n",
        "# svm_acc3= [47.70, 53.07, 51.06, 33.44, 54.39, 43.99, 55.79, 56.11, 42.01, 52.36, 50.69, 50.41, 54.76, 54.09]\n",
        "# knn_acc3 = [79.67, 81.68, 81.39, 80.78, 82.92, 79.01, 80.97, 81.17, 81.87, 79.36, 81.90, 81.19, 81.02, 82.44]\n",
        "\n",
        "# fig, ax = plt.subplots(figsize=(23,6))\n",
        "\n",
        "# ax.plot(measu3, tree_acc3, label='decision tree')\n",
        "# ax.plot(measu3, svm_acc3, label='SVM_poly')\n",
        "# ax.plot(measu3, knn_acc3, label='knn')\n",
        "\n",
        "# ax.set_xlabel('measu')\n",
        "# ax.set_ylabel('acc')\n",
        "\n",
        "# ax.legend()\n",
        "# plt.title('third_acc')\n",
        "# plt.show()"
      ]
    },
    {
      "cell_type": "code",
      "execution_count": null,
      "id": "636e7dab",
      "metadata": {
        "execution": {
          "iopub.execute_input": "2023-08-31T03:20:27.729881Z",
          "iopub.status.busy": "2023-08-31T03:20:27.729530Z",
          "iopub.status.idle": "2023-08-31T03:20:27.736421Z",
          "shell.execute_reply": "2023-08-31T03:20:27.735128Z",
          "shell.execute_reply.started": "2023-08-31T03:20:27.729854Z"
        },
        "papermill": {
          "duration": null,
          "end_time": null,
          "exception": null,
          "start_time": null,
          "status": "pending"
        },
        "tags": [],
        "id": "636e7dab"
      },
      "outputs": [],
      "source": [
        "# # 정확도의 평균값 구하기\n",
        "\n",
        "# avr_tree_acc3 = np.mean(tree_acc3)\n",
        "# avr_svm_acc3 = np.mean(svm_acc3)\n",
        "# avr_knn_acc3 = np.mean(knn_acc3)\n",
        "\n",
        "# print('tree 정확도의 평균 :', avr_tree_acc3)\n",
        "# print('svm 정확도의 평균 :', avr_svm_acc3)\n",
        "# print('knn 정확도의 평균 :', avr_knn_acc3)\n"
      ]
    }
  ],
  "metadata": {
    "kernelspec": {
      "display_name": "Python 3",
      "language": "python",
      "name": "python3"
    },
    "language_info": {
      "codemirror_mode": {
        "name": "ipython",
        "version": 3
      },
      "file_extension": ".py",
      "mimetype": "text/x-python",
      "name": "python",
      "nbconvert_exporter": "python",
      "pygments_lexer": "ipython3",
      "version": "3.10.12"
    },
    "papermill": {
      "default_parameters": {},
      "duration": 13.956689,
      "end_time": "2023-08-31T04:26:33.493621",
      "environment_variables": {},
      "exception": true,
      "input_path": "__notebook__.ipynb",
      "output_path": "__notebook__.ipynb",
      "parameters": {},
      "start_time": "2023-08-31T04:26:19.536932",
      "version": "2.4.0"
    },
    "colab": {
      "provenance": [],
      "include_colab_link": true
    }
  },
  "nbformat": 4,
  "nbformat_minor": 5
}